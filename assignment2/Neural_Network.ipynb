{
  "nbformat": 4,
  "nbformat_minor": 0,
  "metadata": {
    "kernelspec": {
      "display_name": "Python 3",
      "language": "python",
      "name": "python3"
    },
    "language_info": {
      "codemirror_mode": {
        "name": "ipython",
        "version": 3
      },
      "file_extension": ".py",
      "mimetype": "text/x-python",
      "name": "python",
      "nbconvert_exporter": "python",
      "pygments_lexer": "ipython3",
      "version": "3.7.0"
    },
    "colab": {
      "name": "Copy of Neural Network.ipynb",
      "provenance": [],
      "collapsed_sections": [
        "KVggE9zc9H8t"
      ]
    }
  },
  "cells": [
    {
      "cell_type": "markdown",
      "metadata": {
        "id": "KVggE9zc9H8t"
      },
      "source": [
        "# Задание 2.1 - Нейронные сети\n",
        "\n",
        "В этом задании вы реализуете и натренируете настоящую нейроную сеть своими руками!\n",
        "\n",
        "В некотором смысле это будет расширением прошлого задания - нам нужно просто составить несколько линейных классификаторов вместе!\n",
        "\n",
        "<img src=\"https://i.redd.it/n9fgba8b0qr01.png\" alt=\"Stack_more_layers\" width=\"400px\"/>"
      ]
    },
    {
      "cell_type": "code",
      "metadata": {
        "id": "7eFXI5xk9Uuo",
        "colab": {
          "base_uri": "https://localhost:8080/"
        },
        "outputId": "2f9df03f-9843-4539-f4da-0de3bf3b60ec"
      },
      "source": [
        "!git clone https://github.com/sim0nsays/dlcourse_ai.git\n",
        "!cp dlcourse_ai/assignments/assignment2/*.py .\n",
        "!./dlcourse_ai/assignments/assignment2/download_data.sh"
      ],
      "execution_count": 1,
      "outputs": [
        {
          "output_type": "stream",
          "text": [
            "Cloning into 'dlcourse_ai'...\n",
            "remote: Enumerating objects: 357, done.\u001b[K\n",
            "remote: Total 357 (delta 0), reused 0 (delta 0), pack-reused 357\u001b[K\n",
            "Receiving objects: 100% (357/357), 740.01 KiB | 11.38 MiB/s, done.\n",
            "Resolving deltas: 100% (165/165), done.\n",
            "--2021-03-08 07:40:45--  http://ufldl.stanford.edu/housenumbers/train_32x32.mat\n",
            "Resolving ufldl.stanford.edu (ufldl.stanford.edu)... 171.64.68.10\n",
            "Connecting to ufldl.stanford.edu (ufldl.stanford.edu)|171.64.68.10|:80... connected.\n",
            "HTTP request sent, awaiting response... 200 OK\n",
            "Length: 182040794 (174M) [text/plain]\n",
            "Saving to: ‘train_32x32.mat’\n",
            "\n",
            "train_32x32.mat     100%[===================>] 173.61M  18.6MB/s    in 13s     \n",
            "\n",
            "2021-03-08 07:40:58 (13.4 MB/s) - ‘train_32x32.mat’ saved [182040794/182040794]\n",
            "\n",
            "--2021-03-08 07:40:58--  http://ufldl.stanford.edu/housenumbers/test_32x32.mat\n",
            "Reusing existing connection to ufldl.stanford.edu:80.\n",
            "HTTP request sent, awaiting response... 200 OK\n",
            "Length: 64275384 (61M) [text/plain]\n",
            "Saving to: ‘test_32x32.mat’\n",
            "\n",
            "test_32x32.mat      100%[===================>]  61.30M  27.6MB/s    in 2.2s    \n",
            "\n",
            "2021-03-08 07:41:00 (27.6 MB/s) - ‘test_32x32.mat’ saved [64275384/64275384]\n",
            "\n",
            "FINISHED --2021-03-08 07:41:00--\n",
            "Total wall clock time: 15s\n",
            "Downloaded: 2 files, 235M in 15s (15.4 MB/s)\n"
          ],
          "name": "stdout"
        }
      ]
    },
    {
      "cell_type": "code",
      "metadata": {
        "id": "zFnojmtU9H80"
      },
      "source": [
        "import numpy as np\n",
        "import matplotlib.pyplot as plt\n",
        "\n",
        "%matplotlib inline\n",
        "\n",
        "%load_ext autoreload\n",
        "%autoreload 2"
      ],
      "execution_count": 2,
      "outputs": []
    },
    {
      "cell_type": "code",
      "metadata": {
        "id": "7JOZ1eki9H84"
      },
      "source": [
        "from dataset import load_svhn, random_split_train_val\n",
        "from gradient_check import check_layer_gradient, check_layer_param_gradient, check_model_gradient\n",
        "from layers import FullyConnectedLayer, ReLULayer\n",
        "from model import TwoLayerNet\n",
        "from trainer import Trainer, Dataset\n",
        "from optim import SGD, MomentumSGD\n",
        "from metrics import multiclass_accuracy"
      ],
      "execution_count": 3,
      "outputs": []
    },
    {
      "cell_type": "markdown",
      "metadata": {
        "id": "dmjcw1fA9H86"
      },
      "source": [
        "# Загружаем данные\n",
        "\n",
        "И разделяем их на training и validation."
      ]
    },
    {
      "cell_type": "code",
      "metadata": {
        "id": "3cPS2aRY9H86"
      },
      "source": [
        "def prepare_for_neural_network(train_X, test_X):\n",
        "    train_flat = train_X.reshape(train_X.shape[0], -1).astype(np.float) / 255.0\n",
        "    test_flat = test_X.reshape(test_X.shape[0], -1).astype(np.float) / 255.0\n",
        "    \n",
        "    # Subtract mean\n",
        "    mean_image = np.mean(train_flat, axis = 0)\n",
        "    train_flat -= mean_image\n",
        "    test_flat -= mean_image\n",
        "    \n",
        "    return train_flat, test_flat\n",
        "    \n",
        "train_X, train_y, test_X, test_y = load_svhn(\"data\", max_train=10000, max_test=1000)    \n",
        "train_X, test_X = prepare_for_neural_network(train_X, test_X)\n",
        "# Split train into train and val\n",
        "train_X, train_y, val_X, val_y = random_split_train_val(train_X, train_y, num_val = 1000)"
      ],
      "execution_count": 4,
      "outputs": []
    },
    {
      "cell_type": "markdown",
      "metadata": {
        "id": "rL9D-tnp9H87"
      },
      "source": [
        "# Как всегда, начинаем с кирпичиков\n",
        "\n",
        "Мы будем реализовывать необходимые нам слои по очереди. Каждый слой должен реализовать:\n",
        "- прямой проход (forward pass), который генерирует выход слоя по входу и запоминает необходимые данные\n",
        "- обратный проход (backward pass), который получает градиент по выходу слоя и вычисляет градиент по входу и по параметрам\n",
        "\n",
        "Начнем с ReLU, у которого параметров нет."
      ]
    },
    {
      "cell_type": "code",
      "metadata": {
        "colab": {
          "base_uri": "https://localhost:8080/"
        },
        "id": "eaInYHfOC_14",
        "outputId": "414ccfb7-f42f-4ac6-ecb9-37246a494d30"
      },
      "source": [
        "a = np.array([[1,-2,3],\n",
        "              [-1, 2, 0.1]\n",
        "              ])\n",
        "a = np.where(a > 0, a, 0)\n",
        "print(a)\n",
        "print(np.int64(a > 0))\n"
      ],
      "execution_count": null,
      "outputs": [
        {
          "output_type": "stream",
          "text": [
            "[[1.  0.  3. ]\n",
            " [0.  2.  0.1]]\n",
            "[[1 0 1]\n",
            " [0 1 1]]\n"
          ],
          "name": "stdout"
        }
      ]
    },
    {
      "cell_type": "code",
      "metadata": {
        "scrolled": false,
        "id": "csIMQtuu9H88",
        "colab": {
          "base_uri": "https://localhost:8080/"
        },
        "outputId": "3be10fc1-3dba-4bc2-eb77-f311a6b6b0cb"
      },
      "source": [
        "# TODO: Implement ReLULayer layer in layers.py\n",
        "# Note: you'll need to copy implementation of the gradient_check function from the previous assignment\n",
        "\n",
        "X = np.array([[1,-2,3],\n",
        "              [-1, 2, 0.1]\n",
        "              ])\n",
        "\n",
        "assert check_layer_gradient(ReLULayer(), X)"
      ],
      "execution_count": 6,
      "outputs": [
        {
          "output_type": "stream",
          "text": [
            "Gradient check passed!\n"
          ],
          "name": "stdout"
        }
      ]
    },
    {
      "cell_type": "markdown",
      "metadata": {
        "id": "Z6rVmZY39H89"
      },
      "source": [
        "А теперь реализуем полносвязный слой (fully connected layer), у которого будет два массива параметров: W (weights) и B (bias).\n",
        "\n",
        "Все параметры наши слои будут использовать для параметров специальный класс `Param`, в котором будут храниться значения параметров и градиенты этих параметров, вычисляемые во время обратного прохода.\n",
        "\n",
        "Это даст возможность аккумулировать (суммировать) градиенты из разных частей функции потерь, например, из cross-entropy loss и regularization loss."
      ]
    },
    {
      "cell_type": "code",
      "metadata": {
        "id": "YEAUk8bM9H8-",
        "colab": {
          "base_uri": "https://localhost:8080/"
        },
        "outputId": "8a7d0cb1-87c4-43c6-e6df-5a88d4ce8aaf"
      },
      "source": [
        "# TODO: Implement FullyConnected layer forward and backward methods\n",
        "assert check_layer_gradient(FullyConnectedLayer(3, 4), X)\n",
        "# TODO: Implement storing gradients for W and B\n",
        "assert check_layer_param_gradient(FullyConnectedLayer(3, 4), X, 'W')\n",
        "assert check_layer_param_gradient(FullyConnectedLayer(3, 4), X, 'B')"
      ],
      "execution_count": 7,
      "outputs": [
        {
          "output_type": "stream",
          "text": [
            "Gradient check passed!\n",
            "Gradient check passed!\n",
            "Gradient check passed!\n"
          ],
          "name": "stdout"
        }
      ]
    },
    {
      "cell_type": "markdown",
      "metadata": {
        "id": "vmDpvVLS9H9A"
      },
      "source": [
        "## Создаем нейронную сеть\n",
        "\n",
        "Теперь мы реализуем простейшую нейронную сеть с двумя полносвязным слоями и нелинейностью ReLU. Реализуйте функцию `compute_loss_and_gradients`, она должна запустить прямой и обратный проход через оба слоя для вычисления градиентов.\n",
        "\n",
        "Не забудьте реализовать очистку градиентов в начале функции."
      ]
    },
    {
      "cell_type": "code",
      "metadata": {
        "id": "0Ow3OENj9H9A",
        "colab": {
          "base_uri": "https://localhost:8080/"
        },
        "outputId": "53b25cff-b5d3-418d-f009-cb597ef94808"
      },
      "source": [
        "# TODO: In model.py, implement compute_loss_and_gradients function\n",
        "model = TwoLayerNet(n_input = train_X.shape[1], n_output = 10, hidden_layer_size = 3, reg = 0)\n",
        "loss = model.compute_loss_and_gradients(train_X[:2], train_y[:2])\n",
        "\n",
        "# TODO Now implement backward pass and aggregate all of the params\n",
        "check_model_gradient(model, train_X[:2], train_y[:2])"
      ],
      "execution_count": 8,
      "outputs": [
        {
          "output_type": "stream",
          "text": [
            "Checking gradient for hidden_W\n",
            "Gradient check passed!\n",
            "Checking gradient for fully_connected_W\n",
            "Gradient check passed!\n",
            "Checking gradient for hidden_B\n",
            "Gradient check passed!\n",
            "Checking gradient for fully_connected_B\n",
            "Gradient check passed!\n"
          ],
          "name": "stdout"
        },
        {
          "output_type": "execute_result",
          "data": {
            "text/plain": [
              "True"
            ]
          },
          "metadata": {
            "tags": []
          },
          "execution_count": 8
        }
      ]
    },
    {
      "cell_type": "markdown",
      "metadata": {
        "id": "FQP-Gskw9H9B"
      },
      "source": [
        "Теперь добавьте к модели регуляризацию - она должна прибавляться к loss и делать свой вклад в градиенты."
      ]
    },
    {
      "cell_type": "code",
      "metadata": {
        "id": "ndb2V4u49H9C",
        "colab": {
          "base_uri": "https://localhost:8080/"
        },
        "outputId": "ec043485-1c8d-4024-c711-bd6c0101d98c"
      },
      "source": [
        "# TODO Now implement l2 regularization in the forward and backward pass\n",
        "model_with_reg = TwoLayerNet(n_input = train_X.shape[1], n_output = 10, hidden_layer_size = 3, reg = 1e1)\n",
        "loss_with_reg = model_with_reg.compute_loss_and_gradients(train_X[:2], train_y[:2])\n",
        "assert loss_with_reg > loss and not np.isclose(loss_with_reg, loss), \\\n",
        "    \"Loss with regularization (%2.4f) should be higher than without it (%2.4f)!\" % (loss, loss_with_reg)\n",
        "\n",
        "check_model_gradient(model_with_reg, train_X[:2], train_y[:2])"
      ],
      "execution_count": 9,
      "outputs": [
        {
          "output_type": "stream",
          "text": [
            "Checking gradient for hidden_W\n",
            "Gradient check passed!\n",
            "Checking gradient for fully_connected_W\n",
            "Gradient check passed!\n",
            "Checking gradient for hidden_B\n",
            "Gradient check passed!\n",
            "Checking gradient for fully_connected_B\n",
            "Gradient check passed!\n"
          ],
          "name": "stdout"
        },
        {
          "output_type": "execute_result",
          "data": {
            "text/plain": [
              "True"
            ]
          },
          "metadata": {
            "tags": []
          },
          "execution_count": 9
        }
      ]
    },
    {
      "cell_type": "markdown",
      "metadata": {
        "id": "NEtooe489H9D"
      },
      "source": [
        "Также реализуем функцию предсказания (вычисления значения) модели на новых данных.\n",
        "\n",
        "Какое значение точности мы ожидаем увидеть до начала тренировки?"
      ]
    },
    {
      "cell_type": "code",
      "metadata": {
        "id": "x5TrUq0Z9H9H",
        "colab": {
          "base_uri": "https://localhost:8080/"
        },
        "outputId": "638f7a1c-3cdf-4d07-d59b-80095bdb9a15"
      },
      "source": [
        "# Finally, implement predict function!\n",
        "\n",
        "# TODO: Implement predict function\n",
        "# What would be the value we expect?\n",
        "print(model_with_reg.predict(train_X[:30]).shape)\n",
        "multiclass_accuracy(model_with_reg.predict(train_X[:30]), train_y[:30]) "
      ],
      "execution_count": 10,
      "outputs": [
        {
          "output_type": "stream",
          "text": [
            "(30,)\n"
          ],
          "name": "stdout"
        },
        {
          "output_type": "execute_result",
          "data": {
            "text/plain": [
              "0.03333333333333333"
            ]
          },
          "metadata": {
            "tags": []
          },
          "execution_count": 10
        }
      ]
    },
    {
      "cell_type": "markdown",
      "metadata": {
        "id": "F-c0Ph1X9H9I"
      },
      "source": [
        "# Допишем код для процесса тренировки\n",
        "\n",
        "Если все реализовано корректно, значение функции ошибки должно уменьшаться с каждой эпохой, пусть и медленно. Не беспокойтесь пока про validation accuracy."
      ]
    },
    {
      "cell_type": "code",
      "metadata": {
        "id": "8-OMZirY9H9J",
        "colab": {
          "base_uri": "https://localhost:8080/",
          "height": 460
        },
        "outputId": "2f512f29-5497-4715-9600-ff931969abef"
      },
      "source": [
        "model = TwoLayerNet(n_input = train_X.shape[1], n_output = 10, hidden_layer_size = 10, reg = 1e1)\n",
        "dataset = Dataset(train_X, train_y, val_X, val_y)\n",
        "trainer = Trainer(model, dataset, SGD(), learning_rate = 1e-2)\n",
        "\n",
        "# TODO Implement missing pieces in Trainer.fit function\n",
        "# You should expect loss to go down every epoch, even if it's slow\n",
        "loss_history, train_history, val_history = trainer.fit()"
      ],
      "execution_count": 15,
      "outputs": [
        {
          "output_type": "stream",
          "text": [
            "Loss: 2.301901, Train accuracy: 0.196667, val accuracy: 0.206000\n",
            "Loss: 2.301250, Train accuracy: 0.196667, val accuracy: 0.206000\n",
            "Loss: 2.301903, Train accuracy: 0.196667, val accuracy: 0.206000\n",
            "Loss: 2.303973, Train accuracy: 0.148222, val accuracy: 0.140000\n",
            "Loss: 2.301728, Train accuracy: 0.196667, val accuracy: 0.206000\n",
            "Loss: 2.302833, Train accuracy: 0.196667, val accuracy: 0.206000\n",
            "Loss: 2.302302, Train accuracy: 0.196667, val accuracy: 0.206000\n"
          ],
          "name": "stdout"
        },
        {
          "output_type": "error",
          "ename": "KeyboardInterrupt",
          "evalue": "ignored",
          "traceback": [
            "\u001b[0;31m---------------------------------------------------------------------------\u001b[0m",
            "\u001b[0;31mKeyboardInterrupt\u001b[0m                         Traceback (most recent call last)",
            "\u001b[0;32m<ipython-input-15-1990d967a3cc>\u001b[0m in \u001b[0;36m<module>\u001b[0;34m()\u001b[0m\n\u001b[1;32m      5\u001b[0m \u001b[0;31m# TODO Implement missing pieces in Trainer.fit function\u001b[0m\u001b[0;34m\u001b[0m\u001b[0;34m\u001b[0m\u001b[0;34m\u001b[0m\u001b[0m\n\u001b[1;32m      6\u001b[0m \u001b[0;31m# You should expect loss to go down every epoch, even if it's slow\u001b[0m\u001b[0;34m\u001b[0m\u001b[0;34m\u001b[0m\u001b[0;34m\u001b[0m\u001b[0m\n\u001b[0;32m----> 7\u001b[0;31m \u001b[0mloss_history\u001b[0m\u001b[0;34m,\u001b[0m \u001b[0mtrain_history\u001b[0m\u001b[0;34m,\u001b[0m \u001b[0mval_history\u001b[0m \u001b[0;34m=\u001b[0m \u001b[0mtrainer\u001b[0m\u001b[0;34m.\u001b[0m\u001b[0mfit\u001b[0m\u001b[0;34m(\u001b[0m\u001b[0;34m)\u001b[0m\u001b[0;34m\u001b[0m\u001b[0;34m\u001b[0m\u001b[0m\n\u001b[0m",
            "\u001b[0;32m/content/trainer.py\u001b[0m in \u001b[0;36mfit\u001b[0;34m(self)\u001b[0m\n\u001b[1;32m    103\u001b[0m                 \u001b[0mbatch_x\u001b[0m \u001b[0;34m=\u001b[0m \u001b[0mself\u001b[0m\u001b[0;34m.\u001b[0m\u001b[0mdataset\u001b[0m\u001b[0;34m.\u001b[0m\u001b[0mtrain_X\u001b[0m\u001b[0;34m[\u001b[0m\u001b[0mbatch_indices\u001b[0m\u001b[0;34m]\u001b[0m\u001b[0;34m\u001b[0m\u001b[0;34m\u001b[0m\u001b[0m\n\u001b[1;32m    104\u001b[0m                 \u001b[0mbatch_y\u001b[0m \u001b[0;34m=\u001b[0m \u001b[0mself\u001b[0m\u001b[0;34m.\u001b[0m\u001b[0mdataset\u001b[0m\u001b[0;34m.\u001b[0m\u001b[0mtrain_y\u001b[0m\u001b[0;34m[\u001b[0m\u001b[0mbatch_indices\u001b[0m\u001b[0;34m]\u001b[0m\u001b[0;34m\u001b[0m\u001b[0;34m\u001b[0m\u001b[0m\n\u001b[0;32m--> 105\u001b[0;31m                 \u001b[0mloss\u001b[0m \u001b[0;34m=\u001b[0m \u001b[0mself\u001b[0m\u001b[0;34m.\u001b[0m\u001b[0mmodel\u001b[0m\u001b[0;34m.\u001b[0m\u001b[0mcompute_loss_and_gradients\u001b[0m\u001b[0;34m(\u001b[0m\u001b[0mbatch_x\u001b[0m\u001b[0;34m,\u001b[0m \u001b[0mbatch_y\u001b[0m\u001b[0;34m)\u001b[0m\u001b[0;34m\u001b[0m\u001b[0;34m\u001b[0m\u001b[0m\n\u001b[0m\u001b[1;32m    106\u001b[0m \u001b[0;34m\u001b[0m\u001b[0m\n\u001b[1;32m    107\u001b[0m                 \u001b[0;32mfor\u001b[0m \u001b[0mparam_name\u001b[0m\u001b[0;34m,\u001b[0m \u001b[0mparam\u001b[0m \u001b[0;32min\u001b[0m \u001b[0mself\u001b[0m\u001b[0;34m.\u001b[0m\u001b[0mmodel\u001b[0m\u001b[0;34m.\u001b[0m\u001b[0mparams\u001b[0m\u001b[0;34m(\u001b[0m\u001b[0;34m)\u001b[0m\u001b[0;34m.\u001b[0m\u001b[0mitems\u001b[0m\u001b[0;34m(\u001b[0m\u001b[0;34m)\u001b[0m\u001b[0;34m:\u001b[0m\u001b[0;34m\u001b[0m\u001b[0;34m\u001b[0m\u001b[0m\n",
            "\u001b[0;32m/content/model.py\u001b[0m in \u001b[0;36mcompute_loss_and_gradients\u001b[0;34m(self, X, y)\u001b[0m\n\u001b[1;32m     42\u001b[0m         \u001b[0;31m# by running forward and backward passes through the model\u001b[0m\u001b[0;34m\u001b[0m\u001b[0;34m\u001b[0m\u001b[0;34m\u001b[0m\u001b[0m\n\u001b[1;32m     43\u001b[0m         \u001b[0mout\u001b[0m \u001b[0;34m=\u001b[0m \u001b[0;34m[\u001b[0m\u001b[0;32mNone\u001b[0m\u001b[0;34m]\u001b[0m\u001b[0;34m\u001b[0m\u001b[0;34m\u001b[0m\u001b[0m\n\u001b[0;32m---> 44\u001b[0;31m         \u001b[0mout\u001b[0m\u001b[0;34m[\u001b[0m\u001b[0;36m0\u001b[0m\u001b[0;34m]\u001b[0m \u001b[0;34m=\u001b[0m \u001b[0mself\u001b[0m\u001b[0;34m.\u001b[0m\u001b[0mhidden_layer\u001b[0m\u001b[0;34m.\u001b[0m\u001b[0mforward\u001b[0m\u001b[0;34m(\u001b[0m\u001b[0mX\u001b[0m\u001b[0;34m)\u001b[0m\u001b[0;34m\u001b[0m\u001b[0;34m\u001b[0m\u001b[0m\n\u001b[0m\u001b[1;32m     45\u001b[0m         \u001b[0mout\u001b[0m\u001b[0;34m.\u001b[0m\u001b[0mappend\u001b[0m\u001b[0;34m(\u001b[0m\u001b[0mself\u001b[0m\u001b[0;34m.\u001b[0m\u001b[0mrelu_layer\u001b[0m\u001b[0;34m.\u001b[0m\u001b[0mforward\u001b[0m\u001b[0;34m(\u001b[0m\u001b[0mout\u001b[0m\u001b[0;34m[\u001b[0m\u001b[0;36m0\u001b[0m\u001b[0;34m]\u001b[0m\u001b[0;34m)\u001b[0m\u001b[0;34m)\u001b[0m\u001b[0;34m\u001b[0m\u001b[0;34m\u001b[0m\u001b[0m\n\u001b[1;32m     46\u001b[0m         \u001b[0mout\u001b[0m\u001b[0;34m.\u001b[0m\u001b[0mappend\u001b[0m\u001b[0;34m(\u001b[0m\u001b[0mself\u001b[0m\u001b[0;34m.\u001b[0m\u001b[0mfully_connected_layer\u001b[0m\u001b[0;34m.\u001b[0m\u001b[0mforward\u001b[0m\u001b[0;34m(\u001b[0m\u001b[0mout\u001b[0m\u001b[0;34m[\u001b[0m\u001b[0;36m1\u001b[0m\u001b[0;34m]\u001b[0m\u001b[0;34m)\u001b[0m\u001b[0;34m)\u001b[0m\u001b[0;34m\u001b[0m\u001b[0;34m\u001b[0m\u001b[0m\n",
            "\u001b[0;32m/content/layers.py\u001b[0m in \u001b[0;36mforward\u001b[0;34m(self, X)\u001b[0m\n\u001b[1;32m    147\u001b[0m         \u001b[0;31m# Your final implementation shouldn't have any loops\u001b[0m\u001b[0;34m\u001b[0m\u001b[0;34m\u001b[0m\u001b[0;34m\u001b[0m\u001b[0m\n\u001b[1;32m    148\u001b[0m         \u001b[0mself\u001b[0m\u001b[0;34m.\u001b[0m\u001b[0mX\u001b[0m \u001b[0;34m=\u001b[0m \u001b[0mX\u001b[0m\u001b[0;34m\u001b[0m\u001b[0;34m\u001b[0m\u001b[0m\n\u001b[0;32m--> 149\u001b[0;31m         \u001b[0;32mreturn\u001b[0m \u001b[0mX\u001b[0m \u001b[0;34m@\u001b[0m \u001b[0mself\u001b[0m\u001b[0;34m.\u001b[0m\u001b[0mW\u001b[0m\u001b[0;34m.\u001b[0m\u001b[0mvalue\u001b[0m \u001b[0;34m+\u001b[0m \u001b[0mself\u001b[0m\u001b[0;34m.\u001b[0m\u001b[0mB\u001b[0m\u001b[0;34m.\u001b[0m\u001b[0mvalue\u001b[0m\u001b[0;34m\u001b[0m\u001b[0;34m\u001b[0m\u001b[0m\n\u001b[0m\u001b[1;32m    150\u001b[0m \u001b[0;34m\u001b[0m\u001b[0m\n\u001b[1;32m    151\u001b[0m     \u001b[0;32mdef\u001b[0m \u001b[0mbackward\u001b[0m\u001b[0;34m(\u001b[0m\u001b[0mself\u001b[0m\u001b[0;34m,\u001b[0m \u001b[0md_out\u001b[0m\u001b[0;34m)\u001b[0m\u001b[0;34m:\u001b[0m\u001b[0;34m\u001b[0m\u001b[0;34m\u001b[0m\u001b[0m\n",
            "\u001b[0;31mKeyboardInterrupt\u001b[0m: "
          ]
        }
      ]
    },
    {
      "cell_type": "code",
      "metadata": {
        "id": "tod81wWl9H9K",
        "colab": {
          "base_uri": "https://localhost:8080/",
          "height": 282
        },
        "outputId": "d9816325-1376-4b7b-9503-8603a8955aa0"
      },
      "source": [
        "plt.plot(train_history)\n",
        "plt.plot(val_history)"
      ],
      "execution_count": null,
      "outputs": [
        {
          "output_type": "execute_result",
          "data": {
            "text/plain": [
              "[<matplotlib.lines.Line2D at 0x7feef45d4b90>]"
            ]
          },
          "metadata": {
            "tags": []
          },
          "execution_count": 43
        },
        {
          "output_type": "display_data",
          "data": {
            "image/png": "[encoded data removed]",
            "text/plain": [
              "<Figure size 432x288 with 1 Axes>"
            ]
          },
          "metadata": {
            "tags": [],
            "needs_background": "light"
          }
        }
      ]
    },
    {
      "cell_type": "markdown",
      "metadata": {
        "id": "gwbswJXR9H9L"
      },
      "source": [
        "# Улучшаем процесс тренировки\n",
        "\n",
        "Мы реализуем несколько ключевых оптимизаций, необходимых для тренировки современных нейросетей."
      ]
    },
    {
      "cell_type": "markdown",
      "metadata": {
        "id": "h11XikvT9H9M"
      },
      "source": [
        "## Уменьшение скорости обучения (learning rate decay)\n",
        "\n",
        "Одна из необходимых оптимизаций во время тренировки нейронных сетей - постепенное уменьшение скорости обучения по мере тренировки.\n",
        "\n",
        "Один из стандартных методов - уменьшение скорости обучения (learning rate) каждые N эпох на коэффициент d (часто называемый decay). Значения N и d, как всегда, являются гиперпараметрами и должны подбираться на основе эффективности на проверочных данных (validation data). \n",
        "\n",
        "В нашем случае N будет равным 1."
      ]
    },
    {
      "cell_type": "code",
      "metadata": {
        "id": "65-JLZwO9H9M",
        "colab": {
          "base_uri": "https://localhost:8080/",
          "height": 545
        },
        "outputId": "14bcdf9f-1c02-4287-c45f-da9e105382f9"
      },
      "source": [
        "# TODO Implement learning rate decay inside Trainer.fit method\n",
        "# Decay should happen once per epoch\n",
        "\n",
        "model = TwoLayerNet(n_input = train_X.shape[1], n_output = 10, hidden_layer_size = 100, reg = 1e-1)\n",
        "dataset = Dataset(train_X, train_y, val_X, val_y)\n",
        "trainer = Trainer(model, dataset, SGD(), learning_rate_decay=0.99)\n",
        "\n",
        "initial_learning_rate = trainer.learning_rate\n",
        "loss_history, train_history, val_history = trainer.fit()\n",
        "\n",
        "assert trainer.learning_rate < initial_learning_rate, \"Learning rate should've been reduced\"\n",
        "assert trainer.learning_rate > 0.5*initial_learning_rate, \"Learning rate shouldn'tve been reduced that much!\""
      ],
      "execution_count": null,
      "outputs": [
        {
          "output_type": "stream",
          "text": [
            "Loss: 2.297637, Train accuracy: 0.196667, val accuracy: 0.206000\n",
            "Loss: 2.276159, Train accuracy: 0.196667, val accuracy: 0.206000\n",
            "Loss: 2.269356, Train accuracy: 0.196667, val accuracy: 0.206000\n",
            "Loss: 2.263773, Train accuracy: 0.196667, val accuracy: 0.206000\n",
            "Loss: 2.222528, Train accuracy: 0.196667, val accuracy: 0.206000\n",
            "Loss: 2.250457, Train accuracy: 0.196667, val accuracy: 0.206000\n",
            "Loss: 2.237240, Train accuracy: 0.196667, val accuracy: 0.206000\n",
            "Loss: 2.363020, Train accuracy: 0.196667, val accuracy: 0.206000\n",
            "Loss: 2.232430, Train accuracy: 0.196667, val accuracy: 0.206000\n",
            "Loss: 2.345336, Train accuracy: 0.196667, val accuracy: 0.206000\n"
          ],
          "name": "stdout"
        },
        {
          "output_type": "error",
          "ename": "KeyboardInterrupt",
          "evalue": "ignored",
          "traceback": [
            "\u001b[0;31m---------------------------------------------------------------------------\u001b[0m",
            "\u001b[0;31mKeyboardInterrupt\u001b[0m                         Traceback (most recent call last)",
            "\u001b[0;32m<ipython-input-89-2cd0d7e60500>\u001b[0m in \u001b[0;36m<module>\u001b[0;34m()\u001b[0m\n\u001b[1;32m      7\u001b[0m \u001b[0;34m\u001b[0m\u001b[0m\n\u001b[1;32m      8\u001b[0m \u001b[0minitial_learning_rate\u001b[0m \u001b[0;34m=\u001b[0m \u001b[0mtrainer\u001b[0m\u001b[0;34m.\u001b[0m\u001b[0mlearning_rate\u001b[0m\u001b[0;34m\u001b[0m\u001b[0;34m\u001b[0m\u001b[0m\n\u001b[0;32m----> 9\u001b[0;31m \u001b[0mloss_history\u001b[0m\u001b[0;34m,\u001b[0m \u001b[0mtrain_history\u001b[0m\u001b[0;34m,\u001b[0m \u001b[0mval_history\u001b[0m \u001b[0;34m=\u001b[0m \u001b[0mtrainer\u001b[0m\u001b[0;34m.\u001b[0m\u001b[0mfit\u001b[0m\u001b[0;34m(\u001b[0m\u001b[0;34m)\u001b[0m\u001b[0;34m\u001b[0m\u001b[0;34m\u001b[0m\u001b[0m\n\u001b[0m\u001b[1;32m     10\u001b[0m \u001b[0;34m\u001b[0m\u001b[0m\n\u001b[1;32m     11\u001b[0m \u001b[0;32massert\u001b[0m \u001b[0mtrainer\u001b[0m\u001b[0;34m.\u001b[0m\u001b[0mlearning_rate\u001b[0m \u001b[0;34m<\u001b[0m \u001b[0minitial_learning_rate\u001b[0m\u001b[0;34m,\u001b[0m \u001b[0;34m\"Learning rate should've been reduced\"\u001b[0m\u001b[0;34m\u001b[0m\u001b[0;34m\u001b[0m\u001b[0m\n",
            "\u001b[0;32m/content/trainer.py\u001b[0m in \u001b[0;36mfit\u001b[0;34m(self)\u001b[0m\n\u001b[1;32m    103\u001b[0m                 \u001b[0mbatch_x\u001b[0m \u001b[0;34m=\u001b[0m \u001b[0mself\u001b[0m\u001b[0;34m.\u001b[0m\u001b[0mdataset\u001b[0m\u001b[0;34m.\u001b[0m\u001b[0mtrain_X\u001b[0m\u001b[0;34m[\u001b[0m\u001b[0mbatch_indices\u001b[0m\u001b[0;34m]\u001b[0m\u001b[0;34m\u001b[0m\u001b[0;34m\u001b[0m\u001b[0m\n\u001b[1;32m    104\u001b[0m                 \u001b[0mbatch_y\u001b[0m \u001b[0;34m=\u001b[0m \u001b[0mself\u001b[0m\u001b[0;34m.\u001b[0m\u001b[0mdataset\u001b[0m\u001b[0;34m.\u001b[0m\u001b[0mtrain_y\u001b[0m\u001b[0;34m[\u001b[0m\u001b[0mbatch_indices\u001b[0m\u001b[0;34m]\u001b[0m\u001b[0;34m\u001b[0m\u001b[0;34m\u001b[0m\u001b[0m\n\u001b[0;32m--> 105\u001b[0;31m                 \u001b[0mloss\u001b[0m \u001b[0;34m=\u001b[0m \u001b[0mself\u001b[0m\u001b[0;34m.\u001b[0m\u001b[0mmodel\u001b[0m\u001b[0;34m.\u001b[0m\u001b[0mcompute_loss_and_gradients\u001b[0m\u001b[0;34m(\u001b[0m\u001b[0mbatch_x\u001b[0m\u001b[0;34m,\u001b[0m \u001b[0mbatch_y\u001b[0m\u001b[0;34m)\u001b[0m\u001b[0;34m\u001b[0m\u001b[0;34m\u001b[0m\u001b[0m\n\u001b[0m\u001b[1;32m    106\u001b[0m \u001b[0;34m\u001b[0m\u001b[0m\n\u001b[1;32m    107\u001b[0m                 \u001b[0;32mfor\u001b[0m \u001b[0mparam_name\u001b[0m\u001b[0;34m,\u001b[0m \u001b[0mparam\u001b[0m \u001b[0;32min\u001b[0m \u001b[0mself\u001b[0m\u001b[0;34m.\u001b[0m\u001b[0mmodel\u001b[0m\u001b[0;34m.\u001b[0m\u001b[0mparams\u001b[0m\u001b[0;34m(\u001b[0m\u001b[0;34m)\u001b[0m\u001b[0;34m.\u001b[0m\u001b[0mitems\u001b[0m\u001b[0;34m(\u001b[0m\u001b[0;34m)\u001b[0m\u001b[0;34m:\u001b[0m\u001b[0;34m\u001b[0m\u001b[0;34m\u001b[0m\u001b[0m\n",
            "\u001b[0;32m/content/model.py\u001b[0m in \u001b[0;36mcompute_loss_and_gradients\u001b[0;34m(self, X, y)\u001b[0m\n\u001b[1;32m     42\u001b[0m         \u001b[0;31m# by running forward and backward passes through the model\u001b[0m\u001b[0;34m\u001b[0m\u001b[0;34m\u001b[0m\u001b[0;34m\u001b[0m\u001b[0m\n\u001b[1;32m     43\u001b[0m         \u001b[0mout\u001b[0m \u001b[0;34m=\u001b[0m \u001b[0;34m[\u001b[0m\u001b[0;32mNone\u001b[0m\u001b[0;34m]\u001b[0m\u001b[0;34m\u001b[0m\u001b[0;34m\u001b[0m\u001b[0m\n\u001b[0;32m---> 44\u001b[0;31m         \u001b[0mout\u001b[0m\u001b[0;34m[\u001b[0m\u001b[0;36m0\u001b[0m\u001b[0;34m]\u001b[0m \u001b[0;34m=\u001b[0m \u001b[0mself\u001b[0m\u001b[0;34m.\u001b[0m\u001b[0mhidden_layer\u001b[0m\u001b[0;34m.\u001b[0m\u001b[0mforward\u001b[0m\u001b[0;34m(\u001b[0m\u001b[0mX\u001b[0m\u001b[0;34m)\u001b[0m\u001b[0;34m\u001b[0m\u001b[0;34m\u001b[0m\u001b[0m\n\u001b[0m\u001b[1;32m     45\u001b[0m         \u001b[0mout\u001b[0m\u001b[0;34m.\u001b[0m\u001b[0mappend\u001b[0m\u001b[0;34m(\u001b[0m\u001b[0mself\u001b[0m\u001b[0;34m.\u001b[0m\u001b[0mrelu_layer\u001b[0m\u001b[0;34m.\u001b[0m\u001b[0mforward\u001b[0m\u001b[0;34m(\u001b[0m\u001b[0mout\u001b[0m\u001b[0;34m[\u001b[0m\u001b[0;36m0\u001b[0m\u001b[0;34m]\u001b[0m\u001b[0;34m)\u001b[0m\u001b[0;34m)\u001b[0m\u001b[0;34m\u001b[0m\u001b[0;34m\u001b[0m\u001b[0m\n\u001b[1;32m     46\u001b[0m         \u001b[0mout\u001b[0m\u001b[0;34m.\u001b[0m\u001b[0mappend\u001b[0m\u001b[0;34m(\u001b[0m\u001b[0mself\u001b[0m\u001b[0;34m.\u001b[0m\u001b[0mfully_connected_layer\u001b[0m\u001b[0;34m.\u001b[0m\u001b[0mforward\u001b[0m\u001b[0;34m(\u001b[0m\u001b[0mout\u001b[0m\u001b[0;34m[\u001b[0m\u001b[0;36m1\u001b[0m\u001b[0;34m]\u001b[0m\u001b[0;34m)\u001b[0m\u001b[0;34m)\u001b[0m\u001b[0;34m\u001b[0m\u001b[0;34m\u001b[0m\u001b[0m\n",
            "\u001b[0;32m/content/layers.py\u001b[0m in \u001b[0;36mforward\u001b[0;34m(self, X)\u001b[0m\n\u001b[1;32m    147\u001b[0m         \u001b[0;31m# Your final implementation shouldn't have any loops\u001b[0m\u001b[0;34m\u001b[0m\u001b[0;34m\u001b[0m\u001b[0;34m\u001b[0m\u001b[0m\n\u001b[1;32m    148\u001b[0m         \u001b[0mself\u001b[0m\u001b[0;34m.\u001b[0m\u001b[0mX\u001b[0m \u001b[0;34m=\u001b[0m \u001b[0mX\u001b[0m\u001b[0;34m\u001b[0m\u001b[0;34m\u001b[0m\u001b[0m\n\u001b[0;32m--> 149\u001b[0;31m         \u001b[0;32mreturn\u001b[0m \u001b[0mX\u001b[0m \u001b[0;34m@\u001b[0m \u001b[0mself\u001b[0m\u001b[0;34m.\u001b[0m\u001b[0mW\u001b[0m\u001b[0;34m.\u001b[0m\u001b[0mvalue\u001b[0m \u001b[0;34m+\u001b[0m \u001b[0mself\u001b[0m\u001b[0;34m.\u001b[0m\u001b[0mB\u001b[0m\u001b[0;34m.\u001b[0m\u001b[0mvalue\u001b[0m\u001b[0;34m\u001b[0m\u001b[0;34m\u001b[0m\u001b[0m\n\u001b[0m\u001b[1;32m    150\u001b[0m \u001b[0;34m\u001b[0m\u001b[0m\n\u001b[1;32m    151\u001b[0m     \u001b[0;32mdef\u001b[0m \u001b[0mbackward\u001b[0m\u001b[0;34m(\u001b[0m\u001b[0mself\u001b[0m\u001b[0;34m,\u001b[0m \u001b[0md_out\u001b[0m\u001b[0;34m)\u001b[0m\u001b[0;34m:\u001b[0m\u001b[0;34m\u001b[0m\u001b[0;34m\u001b[0m\u001b[0m\n",
            "\u001b[0;31mKeyboardInterrupt\u001b[0m: "
          ]
        }
      ]
    },
    {
      "cell_type": "markdown",
      "metadata": {
        "id": "fk8CXOke9H9N"
      },
      "source": [
        "# Накопление импульса (Momentum SGD)\n",
        "\n",
        "Другой большой класс оптимизаций - использование более эффективных методов градиентного спуска. Мы реализуем один из них - накопление импульса (Momentum SGD).\n",
        "\n",
        "Этот метод хранит скорость движения, использует градиент для ее изменения на каждом шаге, и изменяет веса пропорционально значению скорости.\n",
        "(Физическая аналогия: Вместо скорости градиенты теперь будут задавать ускорение, но будет присутствовать сила трения.)\n",
        "\n",
        "```\n",
        "velocity = momentum * velocity - learning_rate * gradient \n",
        "w = w + velocity\n",
        "```\n",
        "\n",
        "`momentum` здесь коэффициент затухания, который тоже является гиперпараметром (к счастью, для него часто есть хорошее значение по умолчанию, типичный диапазон -- 0.8-0.99).\n",
        "\n",
        "Несколько полезных ссылок, где метод разбирается более подробно:  \n",
        "http://cs231n.github.io/neural-networks-3/#sgd  \n",
        "https://distill.pub/2017/momentum/"
      ]
    },
    {
      "cell_type": "code",
      "metadata": {
        "id": "h9R-QLAH9H9P",
        "colab": {
          "base_uri": "https://localhost:8080/",
          "height": 409
        },
        "outputId": "aafeebcf-5578-4b8d-bd04-d14581aa2120"
      },
      "source": [
        "# TODO: Implement MomentumSGD.update function in optim.py\n",
        "\n",
        "model = TwoLayerNet(n_input = train_X.shape[1], n_output = 10, hidden_layer_size = 100, reg = 1e-1)\n",
        "dataset = Dataset(train_X, train_y, val_X, val_y)\n",
        "trainer = Trainer(model, dataset, MomentumSGD(), learning_rate=1e-4, learning_rate_decay=0.99)\n",
        "\n",
        "# You should see even better results than before!\n",
        "loss_history, train_history, val_history = trainer.fit()"
      ],
      "execution_count": null,
      "outputs": [
        {
          "output_type": "stream",
          "text": [
            "Loss: 2.315165, Train accuracy: 0.196667, val accuracy: 0.206000\n",
            "Loss: 2.319746, Train accuracy: 0.196667, val accuracy: 0.206000\n",
            "Loss: 2.286963, Train accuracy: 0.196667, val accuracy: 0.206000\n",
            "Loss: 2.303713, Train accuracy: 0.196667, val accuracy: 0.206000\n"
          ],
          "name": "stdout"
        },
        {
          "output_type": "error",
          "ename": "KeyboardInterrupt",
          "evalue": "ignored",
          "traceback": [
            "\u001b[0;31m---------------------------------------------------------------------------\u001b[0m",
            "\u001b[0;31mKeyboardInterrupt\u001b[0m                         Traceback (most recent call last)",
            "\u001b[0;32m<ipython-input-87-c381cf05523e>\u001b[0m in \u001b[0;36m<module>\u001b[0;34m()\u001b[0m\n\u001b[1;32m      6\u001b[0m \u001b[0;34m\u001b[0m\u001b[0m\n\u001b[1;32m      7\u001b[0m \u001b[0;31m# You should see even better results than before!\u001b[0m\u001b[0;34m\u001b[0m\u001b[0;34m\u001b[0m\u001b[0;34m\u001b[0m\u001b[0m\n\u001b[0;32m----> 8\u001b[0;31m \u001b[0mloss_history\u001b[0m\u001b[0;34m,\u001b[0m \u001b[0mtrain_history\u001b[0m\u001b[0;34m,\u001b[0m \u001b[0mval_history\u001b[0m \u001b[0;34m=\u001b[0m \u001b[0mtrainer\u001b[0m\u001b[0;34m.\u001b[0m\u001b[0mfit\u001b[0m\u001b[0;34m(\u001b[0m\u001b[0;34m)\u001b[0m\u001b[0;34m\u001b[0m\u001b[0;34m\u001b[0m\u001b[0m\n\u001b[0m",
            "\u001b[0;32m/content/trainer.py\u001b[0m in \u001b[0;36mfit\u001b[0;34m(self)\u001b[0m\n\u001b[1;32m    103\u001b[0m                 \u001b[0mbatch_x\u001b[0m \u001b[0;34m=\u001b[0m \u001b[0mself\u001b[0m\u001b[0;34m.\u001b[0m\u001b[0mdataset\u001b[0m\u001b[0;34m.\u001b[0m\u001b[0mtrain_X\u001b[0m\u001b[0;34m[\u001b[0m\u001b[0mbatch_indices\u001b[0m\u001b[0;34m]\u001b[0m\u001b[0;34m\u001b[0m\u001b[0;34m\u001b[0m\u001b[0m\n\u001b[1;32m    104\u001b[0m                 \u001b[0mbatch_y\u001b[0m \u001b[0;34m=\u001b[0m \u001b[0mself\u001b[0m\u001b[0;34m.\u001b[0m\u001b[0mdataset\u001b[0m\u001b[0;34m.\u001b[0m\u001b[0mtrain_y\u001b[0m\u001b[0;34m[\u001b[0m\u001b[0mbatch_indices\u001b[0m\u001b[0;34m]\u001b[0m\u001b[0;34m\u001b[0m\u001b[0;34m\u001b[0m\u001b[0m\n\u001b[0;32m--> 105\u001b[0;31m                 \u001b[0mloss\u001b[0m \u001b[0;34m=\u001b[0m \u001b[0mself\u001b[0m\u001b[0;34m.\u001b[0m\u001b[0mmodel\u001b[0m\u001b[0;34m.\u001b[0m\u001b[0mcompute_loss_and_gradients\u001b[0m\u001b[0;34m(\u001b[0m\u001b[0mbatch_x\u001b[0m\u001b[0;34m,\u001b[0m \u001b[0mbatch_y\u001b[0m\u001b[0;34m)\u001b[0m\u001b[0;34m\u001b[0m\u001b[0;34m\u001b[0m\u001b[0m\n\u001b[0m\u001b[1;32m    106\u001b[0m \u001b[0;34m\u001b[0m\u001b[0m\n\u001b[1;32m    107\u001b[0m                 \u001b[0;32mfor\u001b[0m \u001b[0mparam_name\u001b[0m\u001b[0;34m,\u001b[0m \u001b[0mparam\u001b[0m \u001b[0;32min\u001b[0m \u001b[0mself\u001b[0m\u001b[0;34m.\u001b[0m\u001b[0mmodel\u001b[0m\u001b[0;34m.\u001b[0m\u001b[0mparams\u001b[0m\u001b[0;34m(\u001b[0m\u001b[0;34m)\u001b[0m\u001b[0;34m.\u001b[0m\u001b[0mitems\u001b[0m\u001b[0;34m(\u001b[0m\u001b[0;34m)\u001b[0m\u001b[0;34m:\u001b[0m\u001b[0;34m\u001b[0m\u001b[0;34m\u001b[0m\u001b[0m\n",
            "\u001b[0;32m/content/model.py\u001b[0m in \u001b[0;36mcompute_loss_and_gradients\u001b[0;34m(self, X, y)\u001b[0m\n\u001b[1;32m     41\u001b[0m         \u001b[0;31m# Compute loss and fill param gradients\u001b[0m\u001b[0;34m\u001b[0m\u001b[0;34m\u001b[0m\u001b[0;34m\u001b[0m\u001b[0m\n\u001b[1;32m     42\u001b[0m         \u001b[0;31m# by running forward and backward passes through the model\u001b[0m\u001b[0;34m\u001b[0m\u001b[0;34m\u001b[0m\u001b[0;34m\u001b[0m\u001b[0m\n\u001b[0;32m---> 43\u001b[0;31m         \u001b[0mout\u001b[0m \u001b[0;34m=\u001b[0m \u001b[0;34m[\u001b[0m\u001b[0mself\u001b[0m\u001b[0;34m.\u001b[0m\u001b[0mhidden_layer\u001b[0m\u001b[0;34m.\u001b[0m\u001b[0mforward\u001b[0m\u001b[0;34m(\u001b[0m\u001b[0mX\u001b[0m\u001b[0;34m)\u001b[0m\u001b[0;34m]\u001b[0m\u001b[0;34m\u001b[0m\u001b[0;34m\u001b[0m\u001b[0m\n\u001b[0m\u001b[1;32m     44\u001b[0m         \u001b[0mout\u001b[0m\u001b[0;34m.\u001b[0m\u001b[0mappend\u001b[0m\u001b[0;34m(\u001b[0m\u001b[0mself\u001b[0m\u001b[0;34m.\u001b[0m\u001b[0mrelu_layer\u001b[0m\u001b[0;34m.\u001b[0m\u001b[0mforward\u001b[0m\u001b[0;34m(\u001b[0m\u001b[0mout\u001b[0m\u001b[0;34m[\u001b[0m\u001b[0;36m0\u001b[0m\u001b[0;34m]\u001b[0m\u001b[0;34m)\u001b[0m\u001b[0;34m)\u001b[0m\u001b[0;34m\u001b[0m\u001b[0;34m\u001b[0m\u001b[0m\n\u001b[1;32m     45\u001b[0m         \u001b[0mout\u001b[0m\u001b[0;34m.\u001b[0m\u001b[0mappend\u001b[0m\u001b[0;34m(\u001b[0m\u001b[0mself\u001b[0m\u001b[0;34m.\u001b[0m\u001b[0mfully_connected_layer\u001b[0m\u001b[0;34m.\u001b[0m\u001b[0mforward\u001b[0m\u001b[0;34m(\u001b[0m\u001b[0mout\u001b[0m\u001b[0;34m[\u001b[0m\u001b[0;36m1\u001b[0m\u001b[0;34m]\u001b[0m\u001b[0;34m)\u001b[0m\u001b[0;34m)\u001b[0m\u001b[0;34m\u001b[0m\u001b[0;34m\u001b[0m\u001b[0m\n",
            "\u001b[0;32m/content/layers.py\u001b[0m in \u001b[0;36mforward\u001b[0;34m(self, X)\u001b[0m\n\u001b[1;32m    147\u001b[0m         \u001b[0;31m# Your final implementation shouldn't have any loops\u001b[0m\u001b[0;34m\u001b[0m\u001b[0;34m\u001b[0m\u001b[0;34m\u001b[0m\u001b[0m\n\u001b[1;32m    148\u001b[0m         \u001b[0mself\u001b[0m\u001b[0;34m.\u001b[0m\u001b[0mX\u001b[0m \u001b[0;34m=\u001b[0m \u001b[0mX\u001b[0m\u001b[0;34m\u001b[0m\u001b[0;34m\u001b[0m\u001b[0m\n\u001b[0;32m--> 149\u001b[0;31m         \u001b[0;32mreturn\u001b[0m \u001b[0mX\u001b[0m \u001b[0;34m@\u001b[0m \u001b[0mself\u001b[0m\u001b[0;34m.\u001b[0m\u001b[0mW\u001b[0m\u001b[0;34m.\u001b[0m\u001b[0mvalue\u001b[0m \u001b[0;34m+\u001b[0m \u001b[0mself\u001b[0m\u001b[0;34m.\u001b[0m\u001b[0mB\u001b[0m\u001b[0;34m.\u001b[0m\u001b[0mvalue\u001b[0m\u001b[0;34m\u001b[0m\u001b[0;34m\u001b[0m\u001b[0m\n\u001b[0m\u001b[1;32m    150\u001b[0m \u001b[0;34m\u001b[0m\u001b[0m\n\u001b[1;32m    151\u001b[0m     \u001b[0;32mdef\u001b[0m \u001b[0mbackward\u001b[0m\u001b[0;34m(\u001b[0m\u001b[0mself\u001b[0m\u001b[0;34m,\u001b[0m \u001b[0md_out\u001b[0m\u001b[0;34m)\u001b[0m\u001b[0;34m:\u001b[0m\u001b[0;34m\u001b[0m\u001b[0;34m\u001b[0m\u001b[0m\n",
            "\u001b[0;31mKeyboardInterrupt\u001b[0m: "
          ]
        }
      ]
    },
    {
      "cell_type": "markdown",
      "metadata": {
        "id": "p-aaib4O9H9R"
      },
      "source": [
        "# Ну что, давайте уже тренировать сеть!"
      ]
    },
    {
      "cell_type": "markdown",
      "metadata": {
        "id": "5NgipHHq9H9S"
      },
      "source": [
        "## Последний тест - переобучимся (overfit) на маленьком наборе данных\n",
        "\n",
        "Хороший способ проверить, все ли реализовано корректно - переобучить сеть на маленьком наборе данных.  \n",
        "Наша модель обладает достаточной мощностью, чтобы приблизить маленький набор данных идеально, поэтому мы ожидаем, что на нем мы быстро дойдем до 100% точности на тренировочном наборе. \n",
        "\n",
        "Если этого не происходит, то где-то была допущена ошибка!"
      ]
    },
    {
      "cell_type": "code",
      "metadata": {
        "id": "0bGi3SvE9H9S",
        "colab": {
          "base_uri": "https://localhost:8080/"
        },
        "outputId": "52943c80-6c0c-4abd-d9e8-ea19883b6335"
      },
      "source": [
        "data_size = 15\n",
        "model = TwoLayerNet(n_input = train_X.shape[1], n_output = 10, hidden_layer_size = 100, reg = 1e-1)\n",
        "dataset = Dataset(train_X[:data_size], train_y[:data_size], val_X[:data_size], val_y[:data_size])\n",
        "trainer = Trainer(model, dataset, SGD(), learning_rate=1e-1, num_epochs=150, batch_size=5)\n",
        "\n",
        "# You should expect this to reach 1.0 training accuracy \n",
        "loss_history, train_history, val_history = trainer.fit()"
      ],
      "execution_count": 16,
      "outputs": [
        {
          "output_type": "stream",
          "text": [
            "Loss: 2.347405, Train accuracy: 0.200000, val accuracy: 0.133333\n",
            "Loss: 2.320409, Train accuracy: 0.200000, val accuracy: 0.133333\n",
            "Loss: 2.307884, Train accuracy: 0.200000, val accuracy: 0.133333\n",
            "Loss: 2.301262, Train accuracy: 0.266667, val accuracy: 0.000000\n",
            "Loss: 2.282862, Train accuracy: 0.200000, val accuracy: 0.133333\n",
            "Loss: 2.258532, Train accuracy: 0.200000, val accuracy: 0.133333\n",
            "Loss: 2.349622, Train accuracy: 0.200000, val accuracy: 0.133333\n",
            "Loss: 2.259465, Train accuracy: 0.200000, val accuracy: 0.133333\n",
            "Loss: 2.280375, Train accuracy: 0.400000, val accuracy: 0.000000\n",
            "Loss: 2.318970, Train accuracy: 0.400000, val accuracy: 0.000000\n",
            "Loss: 1.939739, Train accuracy: 0.400000, val accuracy: 0.000000\n",
            "Loss: 1.905268, Train accuracy: 0.400000, val accuracy: 0.000000\n",
            "Loss: 1.922693, Train accuracy: 0.400000, val accuracy: 0.000000\n",
            "Loss: 1.883892, Train accuracy: 0.333333, val accuracy: 0.000000\n",
            "Loss: 2.138371, Train accuracy: 0.333333, val accuracy: 0.000000\n",
            "Loss: 2.072113, Train accuracy: 0.333333, val accuracy: 0.000000\n",
            "Loss: 2.285011, Train accuracy: 0.400000, val accuracy: 0.000000\n",
            "Loss: 1.993635, Train accuracy: 0.400000, val accuracy: 0.000000\n",
            "Loss: 2.358192, Train accuracy: 0.400000, val accuracy: 0.000000\n",
            "Loss: 1.914681, Train accuracy: 0.400000, val accuracy: 0.000000\n",
            "Loss: 1.919923, Train accuracy: 0.400000, val accuracy: 0.000000\n",
            "Loss: 2.318406, Train accuracy: 0.400000, val accuracy: 0.066667\n",
            "Loss: 1.400390, Train accuracy: 0.400000, val accuracy: 0.066667\n",
            "Loss: 1.792370, Train accuracy: 0.400000, val accuracy: 0.000000\n",
            "Loss: 1.530701, Train accuracy: 0.400000, val accuracy: 0.000000\n",
            "Loss: 1.654157, Train accuracy: 0.466667, val accuracy: 0.000000\n",
            "Loss: 1.726573, Train accuracy: 0.466667, val accuracy: 0.000000\n",
            "Loss: 1.620950, Train accuracy: 0.466667, val accuracy: 0.000000\n",
            "Loss: 1.525007, Train accuracy: 0.466667, val accuracy: 0.066667\n",
            "Loss: 1.676151, Train accuracy: 0.533333, val accuracy: 0.066667\n",
            "Loss: 1.816995, Train accuracy: 0.466667, val accuracy: 0.000000\n",
            "Loss: 1.464910, Train accuracy: 0.466667, val accuracy: 0.000000\n",
            "Loss: 1.667683, Train accuracy: 0.600000, val accuracy: 0.000000\n",
            "Loss: 1.910560, Train accuracy: 0.533333, val accuracy: 0.000000\n",
            "Loss: 1.477351, Train accuracy: 0.533333, val accuracy: 0.066667\n",
            "Loss: 1.792694, Train accuracy: 0.600000, val accuracy: 0.066667\n",
            "Loss: 1.006097, Train accuracy: 0.600000, val accuracy: 0.066667\n",
            "Loss: 1.275989, Train accuracy: 0.666667, val accuracy: 0.066667\n",
            "Loss: 1.413102, Train accuracy: 0.600000, val accuracy: 0.066667\n",
            "Loss: 1.666649, Train accuracy: 0.666667, val accuracy: 0.000000\n",
            "Loss: 1.346804, Train accuracy: 0.666667, val accuracy: 0.066667\n",
            "Loss: 1.375653, Train accuracy: 0.666667, val accuracy: 0.066667\n",
            "Loss: 1.372000, Train accuracy: 0.666667, val accuracy: 0.066667\n",
            "Loss: 1.915935, Train accuracy: 0.666667, val accuracy: 0.066667\n",
            "Loss: 1.547068, Train accuracy: 0.666667, val accuracy: 0.066667\n",
            "Loss: 1.605139, Train accuracy: 0.733333, val accuracy: 0.066667\n",
            "Loss: 1.278481, Train accuracy: 0.800000, val accuracy: 0.066667\n",
            "Loss: 1.609511, Train accuracy: 0.733333, val accuracy: 0.000000\n",
            "Loss: 1.422427, Train accuracy: 0.733333, val accuracy: 0.066667\n",
            "Loss: 1.882240, Train accuracy: 0.733333, val accuracy: 0.066667\n",
            "Loss: 1.943410, Train accuracy: 0.733333, val accuracy: 0.066667\n",
            "Loss: 1.284176, Train accuracy: 0.733333, val accuracy: 0.066667\n",
            "Loss: 1.299853, Train accuracy: 0.733333, val accuracy: 0.133333\n",
            "Loss: 1.450447, Train accuracy: 0.733333, val accuracy: 0.133333\n",
            "Loss: 1.735915, Train accuracy: 0.733333, val accuracy: 0.133333\n",
            "Loss: 1.970962, Train accuracy: 0.733333, val accuracy: 0.066667\n",
            "Loss: 1.658359, Train accuracy: 0.733333, val accuracy: 0.066667\n",
            "Loss: 1.444063, Train accuracy: 0.733333, val accuracy: 0.066667\n",
            "Loss: 0.983488, Train accuracy: 0.733333, val accuracy: 0.066667\n",
            "Loss: 1.213739, Train accuracy: 0.733333, val accuracy: 0.066667\n",
            "Loss: 1.319049, Train accuracy: 0.733333, val accuracy: 0.066667\n",
            "Loss: 1.805887, Train accuracy: 0.733333, val accuracy: 0.066667\n",
            "Loss: 1.267031, Train accuracy: 0.733333, val accuracy: 0.066667\n",
            "Loss: 1.759995, Train accuracy: 0.733333, val accuracy: 0.066667\n",
            "Loss: 1.264091, Train accuracy: 0.733333, val accuracy: 0.066667\n",
            "Loss: 1.631119, Train accuracy: 0.733333, val accuracy: 0.066667\n",
            "Loss: 0.955109, Train accuracy: 0.733333, val accuracy: 0.066667\n",
            "Loss: 1.259718, Train accuracy: 0.733333, val accuracy: 0.066667\n",
            "Loss: 1.947491, Train accuracy: 0.733333, val accuracy: 0.066667\n",
            "Loss: 1.008937, Train accuracy: 0.733333, val accuracy: 0.066667\n",
            "Loss: 1.359208, Train accuracy: 0.733333, val accuracy: 0.066667\n",
            "Loss: 1.319908, Train accuracy: 0.733333, val accuracy: 0.066667\n",
            "Loss: 1.248254, Train accuracy: 0.800000, val accuracy: 0.066667\n",
            "Loss: 1.258861, Train accuracy: 0.800000, val accuracy: 0.066667\n",
            "Loss: 1.620941, Train accuracy: 0.800000, val accuracy: 0.066667\n",
            "Loss: 1.210925, Train accuracy: 0.866667, val accuracy: 0.066667\n",
            "Loss: 0.927852, Train accuracy: 0.866667, val accuracy: 0.066667\n",
            "Loss: 1.515485, Train accuracy: 0.866667, val accuracy: 0.066667\n",
            "Loss: 1.457845, Train accuracy: 0.866667, val accuracy: 0.066667\n",
            "Loss: 1.586391, Train accuracy: 0.933333, val accuracy: 0.066667\n",
            "Loss: 1.033594, Train accuracy: 0.933333, val accuracy: 0.066667\n",
            "Loss: 1.248737, Train accuracy: 0.866667, val accuracy: 0.066667\n",
            "Loss: 1.621755, Train accuracy: 0.933333, val accuracy: 0.066667\n",
            "Loss: 1.346586, Train accuracy: 0.933333, val accuracy: 0.066667\n",
            "Loss: 1.943837, Train accuracy: 0.933333, val accuracy: 0.066667\n",
            "Loss: 1.241888, Train accuracy: 0.933333, val accuracy: 0.066667\n",
            "Loss: 1.301453, Train accuracy: 0.933333, val accuracy: 0.066667\n",
            "Loss: 1.596102, Train accuracy: 0.933333, val accuracy: 0.066667\n",
            "Loss: 1.655652, Train accuracy: 0.933333, val accuracy: 0.066667\n",
            "Loss: 1.254548, Train accuracy: 0.933333, val accuracy: 0.066667\n",
            "Loss: 1.480622, Train accuracy: 0.933333, val accuracy: 0.066667\n",
            "Loss: 1.596973, Train accuracy: 0.933333, val accuracy: 0.066667\n",
            "Loss: 1.187435, Train accuracy: 0.933333, val accuracy: 0.066667\n",
            "Loss: 1.276691, Train accuracy: 0.933333, val accuracy: 0.066667\n",
            "Loss: 1.463777, Train accuracy: 0.933333, val accuracy: 0.066667\n",
            "Loss: 1.593712, Train accuracy: 0.933333, val accuracy: 0.066667\n",
            "Loss: 1.084228, Train accuracy: 0.933333, val accuracy: 0.066667\n",
            "Loss: 1.090772, Train accuracy: 0.933333, val accuracy: 0.066667\n",
            "Loss: 1.357789, Train accuracy: 0.933333, val accuracy: 0.066667\n",
            "Loss: 1.234136, Train accuracy: 0.933333, val accuracy: 0.066667\n",
            "Loss: 1.349143, Train accuracy: 0.933333, val accuracy: 0.066667\n",
            "Loss: 1.250146, Train accuracy: 0.933333, val accuracy: 0.066667\n",
            "Loss: 1.009300, Train accuracy: 0.933333, val accuracy: 0.000000\n",
            "Loss: 1.187317, Train accuracy: 0.933333, val accuracy: 0.066667\n",
            "Loss: 1.164523, Train accuracy: 0.933333, val accuracy: 0.066667\n",
            "Loss: 1.440744, Train accuracy: 0.933333, val accuracy: 0.000000\n",
            "Loss: 1.117520, Train accuracy: 0.933333, val accuracy: 0.000000\n",
            "Loss: 1.119609, Train accuracy: 0.933333, val accuracy: 0.000000\n",
            "Loss: 1.542602, Train accuracy: 1.000000, val accuracy: 0.000000\n",
            "Loss: 1.301749, Train accuracy: 1.000000, val accuracy: 0.000000\n",
            "Loss: 1.020703, Train accuracy: 1.000000, val accuracy: 0.000000\n",
            "Loss: 1.215974, Train accuracy: 1.000000, val accuracy: 0.000000\n",
            "Loss: 1.518074, Train accuracy: 1.000000, val accuracy: 0.000000\n",
            "Loss: 1.263460, Train accuracy: 0.933333, val accuracy: 0.000000\n",
            "Loss: 1.134013, Train accuracy: 0.933333, val accuracy: 0.000000\n",
            "Loss: 1.268742, Train accuracy: 1.000000, val accuracy: 0.000000\n",
            "Loss: 1.477929, Train accuracy: 1.000000, val accuracy: 0.000000\n",
            "Loss: 1.364618, Train accuracy: 1.000000, val accuracy: 0.000000\n",
            "Loss: 1.148355, Train accuracy: 1.000000, val accuracy: 0.000000\n",
            "Loss: 1.236593, Train accuracy: 1.000000, val accuracy: 0.000000\n",
            "Loss: 1.139823, Train accuracy: 1.000000, val accuracy: 0.000000\n",
            "Loss: 1.415895, Train accuracy: 1.000000, val accuracy: 0.000000\n",
            "Loss: 1.424922, Train accuracy: 1.000000, val accuracy: 0.000000\n",
            "Loss: 1.463755, Train accuracy: 1.000000, val accuracy: 0.000000\n",
            "Loss: 1.587879, Train accuracy: 1.000000, val accuracy: 0.000000\n",
            "Loss: 1.070720, Train accuracy: 1.000000, val accuracy: 0.000000\n",
            "Loss: 1.334238, Train accuracy: 1.000000, val accuracy: 0.000000\n",
            "Loss: 1.488354, Train accuracy: 1.000000, val accuracy: 0.000000\n",
            "Loss: 1.258736, Train accuracy: 1.000000, val accuracy: 0.000000\n",
            "Loss: 1.174324, Train accuracy: 1.000000, val accuracy: 0.000000\n",
            "Loss: 1.335986, Train accuracy: 1.000000, val accuracy: 0.000000\n",
            "Loss: 1.323730, Train accuracy: 1.000000, val accuracy: 0.000000\n",
            "Loss: 1.260214, Train accuracy: 1.000000, val accuracy: 0.000000\n",
            "Loss: 1.234124, Train accuracy: 1.000000, val accuracy: 0.000000\n",
            "Loss: 1.140789, Train accuracy: 1.000000, val accuracy: 0.000000\n",
            "Loss: 1.206724, Train accuracy: 1.000000, val accuracy: 0.000000\n",
            "Loss: 1.244107, Train accuracy: 1.000000, val accuracy: 0.000000\n",
            "Loss: 1.259171, Train accuracy: 1.000000, val accuracy: 0.000000\n",
            "Loss: 1.340617, Train accuracy: 1.000000, val accuracy: 0.000000\n",
            "Loss: 1.253713, Train accuracy: 1.000000, val accuracy: 0.000000\n",
            "Loss: 1.223716, Train accuracy: 1.000000, val accuracy: 0.000000\n",
            "Loss: 1.370739, Train accuracy: 1.000000, val accuracy: 0.000000\n",
            "Loss: 1.431264, Train accuracy: 1.000000, val accuracy: 0.000000\n",
            "Loss: 1.220904, Train accuracy: 1.000000, val accuracy: 0.000000\n",
            "Loss: 1.380599, Train accuracy: 1.000000, val accuracy: 0.000000\n",
            "Loss: 1.107054, Train accuracy: 1.000000, val accuracy: 0.000000\n",
            "Loss: 1.314145, Train accuracy: 1.000000, val accuracy: 0.000000\n",
            "Loss: 1.272770, Train accuracy: 1.000000, val accuracy: 0.000000\n",
            "Loss: 1.156313, Train accuracy: 1.000000, val accuracy: 0.000000\n",
            "Loss: 1.304988, Train accuracy: 1.000000, val accuracy: 0.000000\n"
          ],
          "name": "stdout"
        }
      ]
    },
    {
      "cell_type": "markdown",
      "metadata": {
        "id": "EWntkB_f9H9T"
      },
      "source": [
        "Теперь найдем гипепараметры, для которых этот процесс сходится быстрее.\n",
        "Если все реализовано корректно, то существуют параметры, при которых процесс сходится в **20** эпох или еще быстрее.\n",
        "Найдите их!"
      ]
    },
    {
      "cell_type": "code",
      "metadata": {
        "id": "fPtL_ze99H9U",
        "colab": {
          "base_uri": "https://localhost:8080/"
        },
        "outputId": "aeab70a4-1a6b-440e-da07-557699241fd7"
      },
      "source": [
        "# Now, tweak some hyper parameters and make it train to 1.0 accuracy in 20 epochs or less\n",
        "\n",
        "model = TwoLayerNet(n_input = train_X.shape[1], n_output = 10, hidden_layer_size = 980, reg = (1e-1)/3)\n",
        "dataset = Dataset(train_X[:data_size], train_y[:data_size], val_X[:data_size], val_y[:data_size])\n",
        "# TODO: Change any hyperparamers or optimizators to reach training accuracy in 20 epochs\n",
        "trainer = Trainer(model, dataset, SGD(), learning_rate=(1e-1)*3, num_epochs=20, batch_size=5)\n",
        "\n",
        "loss_history, train_history, val_history = trainer.fit()"
      ],
      "execution_count": 17,
      "outputs": [
        {
          "output_type": "stream",
          "text": [
            "Loss: 2.382927, Train accuracy: 0.266667, val accuracy: 0.000000\n",
            "Loss: 2.419136, Train accuracy: 0.266667, val accuracy: 0.000000\n",
            "Loss: 2.352129, Train accuracy: 0.400000, val accuracy: 0.000000\n",
            "Loss: 2.552973, Train accuracy: 0.400000, val accuracy: 0.000000\n",
            "Loss: 1.893993, Train accuracy: 0.333333, val accuracy: 0.133333\n",
            "Loss: 2.043616, Train accuracy: 0.400000, val accuracy: 0.133333\n",
            "Loss: 2.350626, Train accuracy: 0.466667, val accuracy: 0.000000\n",
            "Loss: 2.189250, Train accuracy: 0.400000, val accuracy: 0.133333\n",
            "Loss: 1.614401, Train accuracy: 0.533333, val accuracy: 0.000000\n",
            "Loss: 1.783032, Train accuracy: 0.600000, val accuracy: 0.000000\n",
            "Loss: 1.600521, Train accuracy: 0.800000, val accuracy: 0.000000\n",
            "Loss: 1.615659, Train accuracy: 0.733333, val accuracy: 0.000000\n",
            "Loss: 1.927517, Train accuracy: 0.733333, val accuracy: 0.066667\n",
            "Loss: 0.922200, Train accuracy: 0.933333, val accuracy: 0.066667\n",
            "Loss: 1.188330, Train accuracy: 0.933333, val accuracy: 0.000000\n",
            "Loss: 0.858235, Train accuracy: 0.866667, val accuracy: 0.000000\n",
            "Loss: 1.243379, Train accuracy: 0.933333, val accuracy: 0.133333\n",
            "Loss: 0.960333, Train accuracy: 0.933333, val accuracy: 0.000000\n",
            "Loss: 0.550924, Train accuracy: 1.000000, val accuracy: 0.000000\n",
            "Loss: 0.884232, Train accuracy: 1.000000, val accuracy: 0.000000\n"
          ],
          "name": "stdout"
        }
      ]
    },
    {
      "cell_type": "markdown",
      "metadata": {
        "id": "Zz3DaRNL9H9V"
      },
      "source": [
        "# Итак, основное мероприятие!\n",
        "\n",
        "Натренируйте лучшую нейросеть! Можно добавлять и изменять параметры, менять количество нейронов в слоях сети и как угодно экспериментировать. \n",
        "\n",
        "Добейтесь точности лучше **60%** на validation set."
      ]
    },
    {
      "cell_type": "code",
      "metadata": {
        "scrolled": true,
        "id": "mipN_Vog9H9W",
        "colab": {
          "base_uri": "https://localhost:8080/"
        },
        "outputId": "d9bf05cd-8219-48d8-be29-0d8360df90d3"
      },
      "source": [
        "# Let's train the best one-hidden-layer network we can\n",
        "\n",
        "learning_rates = [1e-2]\n",
        "reg_strengths = [1e-3]\n",
        "learning_rate_decays = [0.999]\n",
        "hidden_layer_sizes = [256]\n",
        "num_epochs = 120\n",
        "batch_size = 64\n",
        "\n",
        "best_classifier = None\n",
        "best_val_accuracy = 0\n",
        "best_reg = 0\n",
        "best_learning_rate = 0\n",
        "best_decay = 0\n",
        "best_hl_size = 0\n",
        "\n",
        "loss_history = []\n",
        "train_history = []\n",
        "val_history = []\n",
        "\n",
        "\n",
        "# TODO find the best hyperparameters to train the network\n",
        "# Don't hesitate to add new values to the arrays above, perform experiments, use any tricks you want\n",
        "# You should expect to get to at least 40% of valudation accuracy\n",
        "# Save loss/train/history of the best classifier to the variables above\n",
        "for learning_rate in learning_rates:\n",
        "    for reg in reg_strengths:\n",
        "        for decay in learning_rate_decays:\n",
        "            for hl_size in hidden_layer_sizes:\n",
        "                model = TwoLayerNet(n_input = train_X.shape[1], n_output = 10, hidden_layer_size=hl_size, reg=reg)\n",
        "                dataset = Dataset(train_X, train_y, val_X, val_y)\n",
        "                trainer = Trainer(model, dataset, MomentumSGD(), learning_rate=learning_rate, num_epochs=num_epochs, batch_size=batch_size, learning_rate_decay=decay)\n",
        "                loss_history_cur, train_history_cur, val_history_cur = trainer.fit()\n",
        "                if (val_history_cur[-1] > best_val_accuracy):\n",
        "                    loss_history = loss_history_cur\n",
        "                    train_history = train_history_cur\n",
        "                    val_history = val_history_cur\n",
        "                    best_reg = reg\n",
        "                    best_learning_rate = learning_rate\n",
        "                    best_decay = decay\n",
        "                    best_hl_size = hl_size\n",
        "                    best_val_accuracy = val_history_cur[-1]\n",
        "                    best_classifier = model\n",
        "\n",
        "\n",
        "\n",
        "print('reg={reg}, learning_rate={learning_rate}, decay={decay}, hl_size={hl_size}'\n",
        ".format(reg=best_reg, learning_rate=best_learning_rate, decay=best_decay, hl_size=best_hl_size))\n",
        "print('best validation accuracy achieved: %f' % best_val_accuracy)"
      ],
      "execution_count": 33,
      "outputs": [
        {
          "output_type": "stream",
          "text": [
            "Loss: 2.164170, Train accuracy: 0.196667, val accuracy: 0.206000\n",
            "Loss: 2.204412, Train accuracy: 0.196667, val accuracy: 0.206000\n",
            "Loss: 2.109804, Train accuracy: 0.198222, val accuracy: 0.207000\n",
            "Loss: 1.808008, Train accuracy: 0.260667, val accuracy: 0.261000\n",
            "Loss: 1.851381, Train accuracy: 0.350778, val accuracy: 0.353000\n",
            "Loss: 1.708688, Train accuracy: 0.446778, val accuracy: 0.432000\n",
            "Loss: 1.588668, Train accuracy: 0.508222, val accuracy: 0.502000\n",
            "Loss: 1.614781, Train accuracy: 0.574778, val accuracy: 0.575000\n",
            "Loss: 1.534629, Train accuracy: 0.613444, val accuracy: 0.603000\n",
            "Loss: 1.091448, Train accuracy: 0.639889, val accuracy: 0.636000\n",
            "Loss: 1.355594, Train accuracy: 0.668333, val accuracy: 0.658000\n",
            "Loss: 1.162297, Train accuracy: 0.691444, val accuracy: 0.673000\n",
            "Loss: 1.216176, Train accuracy: 0.715889, val accuracy: 0.694000\n",
            "Loss: 1.174283, Train accuracy: 0.717778, val accuracy: 0.700000\n",
            "Loss: 1.040536, Train accuracy: 0.688000, val accuracy: 0.668000\n",
            "Loss: 0.975510, Train accuracy: 0.736333, val accuracy: 0.700000\n",
            "Loss: 1.365885, Train accuracy: 0.747667, val accuracy: 0.701000\n",
            "Loss: 1.208589, Train accuracy: 0.768667, val accuracy: 0.717000\n",
            "Loss: 0.859793, Train accuracy: 0.760556, val accuracy: 0.714000\n",
            "Loss: 1.097226, Train accuracy: 0.768667, val accuracy: 0.726000\n",
            "Loss: 1.192965, Train accuracy: 0.772333, val accuracy: 0.718000\n",
            "Loss: 1.198730, Train accuracy: 0.784111, val accuracy: 0.747000\n",
            "Loss: 0.914436, Train accuracy: 0.792667, val accuracy: 0.739000\n",
            "Loss: 1.170468, Train accuracy: 0.796222, val accuracy: 0.737000\n",
            "Loss: 0.705561, Train accuracy: 0.800444, val accuracy: 0.746000\n",
            "Loss: 0.971364, Train accuracy: 0.798889, val accuracy: 0.734000\n",
            "Loss: 0.800357, Train accuracy: 0.820222, val accuracy: 0.753000\n",
            "Loss: 0.724133, Train accuracy: 0.817889, val accuracy: 0.740000\n",
            "Loss: 0.826173, Train accuracy: 0.818111, val accuracy: 0.742000\n",
            "Loss: 1.095616, Train accuracy: 0.833889, val accuracy: 0.744000\n",
            "Loss: 0.933484, Train accuracy: 0.821000, val accuracy: 0.752000\n",
            "Loss: 0.992080, Train accuracy: 0.838667, val accuracy: 0.752000\n",
            "Loss: 1.001430, Train accuracy: 0.847444, val accuracy: 0.761000\n",
            "Loss: 0.775397, Train accuracy: 0.830889, val accuracy: 0.749000\n",
            "Loss: 0.788105, Train accuracy: 0.849000, val accuracy: 0.754000\n",
            "Loss: 0.767440, Train accuracy: 0.848667, val accuracy: 0.752000\n",
            "Loss: 0.845929, Train accuracy: 0.862778, val accuracy: 0.751000\n",
            "Loss: 0.752081, Train accuracy: 0.863000, val accuracy: 0.765000\n",
            "Loss: 0.919368, Train accuracy: 0.866111, val accuracy: 0.761000\n",
            "Loss: 0.800109, Train accuracy: 0.869667, val accuracy: 0.766000\n",
            "Loss: 0.933089, Train accuracy: 0.872111, val accuracy: 0.755000\n",
            "Loss: 0.598017, Train accuracy: 0.868111, val accuracy: 0.755000\n",
            "Loss: 0.848244, Train accuracy: 0.877444, val accuracy: 0.754000\n",
            "Loss: 1.678023, Train accuracy: 0.884667, val accuracy: 0.756000\n",
            "Loss: 0.700116, Train accuracy: 0.879444, val accuracy: 0.758000\n",
            "Loss: 0.663351, Train accuracy: 0.875556, val accuracy: 0.756000\n",
            "Loss: 0.678006, Train accuracy: 0.882222, val accuracy: 0.768000\n",
            "Loss: 0.898350, Train accuracy: 0.884222, val accuracy: 0.757000\n",
            "Loss: 0.847776, Train accuracy: 0.898667, val accuracy: 0.769000\n",
            "Loss: 0.724269, Train accuracy: 0.892111, val accuracy: 0.774000\n",
            "Loss: 0.807168, Train accuracy: 0.889222, val accuracy: 0.765000\n",
            "Loss: 0.769580, Train accuracy: 0.896667, val accuracy: 0.768000\n",
            "Loss: 0.694833, Train accuracy: 0.905667, val accuracy: 0.773000\n",
            "Loss: 0.799794, Train accuracy: 0.899333, val accuracy: 0.767000\n",
            "Loss: 0.802375, Train accuracy: 0.905667, val accuracy: 0.768000\n",
            "Loss: 0.818710, Train accuracy: 0.898778, val accuracy: 0.762000\n",
            "Loss: 0.795345, Train accuracy: 0.904444, val accuracy: 0.770000\n",
            "Loss: 0.653036, Train accuracy: 0.888111, val accuracy: 0.751000\n",
            "Loss: 0.923141, Train accuracy: 0.911778, val accuracy: 0.767000\n",
            "Loss: 0.748469, Train accuracy: 0.910222, val accuracy: 0.771000\n",
            "Loss: 0.717812, Train accuracy: 0.908889, val accuracy: 0.777000\n",
            "Loss: 0.791083, Train accuracy: 0.902778, val accuracy: 0.766000\n",
            "Loss: 0.722315, Train accuracy: 0.913000, val accuracy: 0.770000\n",
            "Loss: 0.594777, Train accuracy: 0.914444, val accuracy: 0.777000\n",
            "Loss: 0.782985, Train accuracy: 0.917111, val accuracy: 0.764000\n",
            "Loss: 0.576013, Train accuracy: 0.909444, val accuracy: 0.778000\n",
            "Loss: 0.707951, Train accuracy: 0.918000, val accuracy: 0.774000\n",
            "Loss: 0.772443, Train accuracy: 0.905222, val accuracy: 0.769000\n",
            "Loss: 0.679756, Train accuracy: 0.922667, val accuracy: 0.773000\n",
            "Loss: 0.897611, Train accuracy: 0.929444, val accuracy: 0.767000\n",
            "Loss: 0.691673, Train accuracy: 0.923556, val accuracy: 0.772000\n",
            "Loss: 0.795304, Train accuracy: 0.925889, val accuracy: 0.779000\n",
            "Loss: 0.771472, Train accuracy: 0.913556, val accuracy: 0.768000\n",
            "Loss: 0.577967, Train accuracy: 0.913556, val accuracy: 0.769000\n",
            "Loss: 0.757400, Train accuracy: 0.919222, val accuracy: 0.776000\n",
            "Loss: 0.774866, Train accuracy: 0.935000, val accuracy: 0.783000\n",
            "Loss: 0.864134, Train accuracy: 0.919000, val accuracy: 0.771000\n",
            "Loss: 0.877649, Train accuracy: 0.924667, val accuracy: 0.775000\n",
            "Loss: 0.862950, Train accuracy: 0.928444, val accuracy: 0.779000\n",
            "Loss: 0.755855, Train accuracy: 0.934222, val accuracy: 0.783000\n",
            "Loss: 0.637180, Train accuracy: 0.920778, val accuracy: 0.777000\n",
            "Loss: 0.919677, Train accuracy: 0.935222, val accuracy: 0.779000\n",
            "Loss: 0.683526, Train accuracy: 0.919889, val accuracy: 0.763000\n",
            "Loss: 0.823486, Train accuracy: 0.928778, val accuracy: 0.779000\n",
            "Loss: 0.700812, Train accuracy: 0.915889, val accuracy: 0.758000\n",
            "Loss: 0.764255, Train accuracy: 0.934556, val accuracy: 0.774000\n",
            "Loss: 0.879134, Train accuracy: 0.933333, val accuracy: 0.779000\n",
            "Loss: 0.633709, Train accuracy: 0.933556, val accuracy: 0.778000\n",
            "Loss: 0.725083, Train accuracy: 0.927889, val accuracy: 0.781000\n",
            "Loss: 0.728342, Train accuracy: 0.920889, val accuracy: 0.762000\n",
            "Loss: 0.613830, Train accuracy: 0.945000, val accuracy: 0.783000\n",
            "Loss: 0.682511, Train accuracy: 0.940000, val accuracy: 0.783000\n",
            "Loss: 0.615238, Train accuracy: 0.922556, val accuracy: 0.775000\n",
            "Loss: 0.762780, Train accuracy: 0.935222, val accuracy: 0.778000\n",
            "Loss: 0.727308, Train accuracy: 0.938889, val accuracy: 0.778000\n",
            "Loss: 0.655953, Train accuracy: 0.942667, val accuracy: 0.785000\n",
            "Loss: 0.557043, Train accuracy: 0.935778, val accuracy: 0.771000\n",
            "Loss: 0.801524, Train accuracy: 0.938667, val accuracy: 0.780000\n",
            "Loss: 0.752820, Train accuracy: 0.940444, val accuracy: 0.779000\n",
            "Loss: 0.821281, Train accuracy: 0.944778, val accuracy: 0.783000\n",
            "Loss: 0.604547, Train accuracy: 0.935444, val accuracy: 0.775000\n",
            "Loss: 0.855035, Train accuracy: 0.933333, val accuracy: 0.767000\n",
            "Loss: 0.594571, Train accuracy: 0.942667, val accuracy: 0.784000\n",
            "Loss: 0.702799, Train accuracy: 0.944111, val accuracy: 0.784000\n",
            "Loss: 0.744528, Train accuracy: 0.940556, val accuracy: 0.779000\n",
            "Loss: 0.905234, Train accuracy: 0.940222, val accuracy: 0.788000\n",
            "Loss: 0.779480, Train accuracy: 0.935667, val accuracy: 0.775000\n",
            "Loss: 0.793156, Train accuracy: 0.936778, val accuracy: 0.775000\n",
            "Loss: 0.641352, Train accuracy: 0.945778, val accuracy: 0.780000\n",
            "Loss: 0.617164, Train accuracy: 0.941556, val accuracy: 0.787000\n",
            "Loss: 0.754987, Train accuracy: 0.941667, val accuracy: 0.777000\n",
            "Loss: 0.670568, Train accuracy: 0.945556, val accuracy: 0.781000\n",
            "Loss: 0.733150, Train accuracy: 0.944556, val accuracy: 0.785000\n",
            "Loss: 0.700929, Train accuracy: 0.941222, val accuracy: 0.781000\n",
            "Loss: 0.612181, Train accuracy: 0.947111, val accuracy: 0.790000\n",
            "Loss: 0.645002, Train accuracy: 0.952667, val accuracy: 0.788000\n",
            "Loss: 0.629227, Train accuracy: 0.946333, val accuracy: 0.784000\n",
            "Loss: 0.696479, Train accuracy: 0.941667, val accuracy: 0.781000\n",
            "Loss: 0.667291, Train accuracy: 0.940111, val accuracy: 0.778000\n",
            "Loss: 0.734105, Train accuracy: 0.949000, val accuracy: 0.783000\n",
            "reg=0.001, learning_rate=0.01, decay=0.999, hl_size=256\n",
            "best validation accuracy achieved: 0.783000\n"
          ],
          "name": "stdout"
        }
      ]
    },
    {
      "cell_type": "code",
      "metadata": {
        "id": "8Rh-EU5d9H9Y",
        "colab": {
          "base_uri": "https://localhost:8080/",
          "height": 461
        },
        "outputId": "08b80e9f-9179-4772-ee0c-4cfe64d1a7ca"
      },
      "source": [
        "plt.figure(figsize=(15, 7))\n",
        "plt.subplot(211)\n",
        "plt.title(\"Loss\")\n",
        "plt.plot(loss_history)\n",
        "plt.subplot(212)\n",
        "plt.title(\"Train/validation accuracy\")\n",
        "plt.plot(train_history)\n",
        "plt.plot(val_history)"
      ],
      "execution_count": 34,
      "outputs": [
        {
          "output_type": "execute_result",
          "data": {
            "text/plain": [
              "[<matplotlib.lines.Line2D at 0x7f533c3f2f90>]"
            ]
          },
          "metadata": {
            "tags": []
          },
          "execution_count": 34
        },
        {
          "output_type": "display_data",
          "data": {
            "image/png": "[encoded data removed]",
            "text/plain": [
              "<Figure size 1080x504 with 2 Axes>"
            ]
          },
          "metadata": {
            "tags": [],
            "needs_background": "light"
          }
        }
      ]
    },
    {
      "cell_type": "markdown",
      "metadata": {
        "id": "oMvG-_1s9H9Z"
      },
      "source": [
        "# Как обычно, посмотрим, как наша лучшая модель работает на тестовых данных"
      ]
    },
    {
      "cell_type": "code",
      "metadata": {
        "id": "aZVxS_Jw9H9b",
        "colab": {
          "base_uri": "https://localhost:8080/"
        },
        "outputId": "3788ce6e-ebe2-46ba-b1bb-265291c4b98e"
      },
      "source": [
        "test_pred = best_classifier.predict(test_X)\n",
        "test_accuracy = multiclass_accuracy(test_pred, test_y)\n",
        "print('Neural net test set accuracy: %f' % (test_accuracy, ))"
      ],
      "execution_count": 35,
      "outputs": [
        {
          "output_type": "stream",
          "text": [
            "Neural net test set accuracy: 0.774000\n"
          ],
          "name": "stdout"
        }
      ]
    }
  ]
}