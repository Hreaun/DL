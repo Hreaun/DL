{
 "nbformat": 4,
 "nbformat_minor": 0,
 "metadata": {
  "accelerator": "GPU",
  "colab": {
   "name": "Copy of PyTorch_CNN.ipynb",
   "provenance": [],
   "collapsed_sections": []
  },
  "kernelspec": {
   "display_name": "Python 3",
   "language": "python",
   "name": "python3"
  },
  "language_info": {
   "codemirror_mode": {
    "name": "ipython",
    "version": 3
   },
   "file_extension": ".py",
   "mimetype": "text/x-python",
   "name": "python",
   "nbconvert_exporter": "python",
   "pygments_lexer": "ipython3",
   "version": "3.7.0"
  }
 },
 "cells": [
  {
   "cell_type": "markdown",
   "metadata": {
    "id": "ppjQoQJirxHj"
   },
   "source": [
    "# Задание 3.2 - сверточные нейронные сети (CNNs) в PyTorch\n",
    "\n",
    "Это упражнение мы буде выполнять в Google Colab - https://colab.research.google.com/  \n",
    "Google Colab позволяет запускать код в notebook в облаке Google, где можно воспользоваться бесплатным GPU!  \n",
    "\n",
    "Авторы курса благодарят компанию Google и надеятся, что праздник не закончится.\n",
    "\n",
    "Туториал по настройке Google Colab:  \n",
    "https://medium.com/deep-learning-turkey/google-colab-free-gpu-tutorial-e113627b9f5d  \n",
    "(Keras инсталлировать не нужно, наш notebook сам установит PyTorch)\n"
   ]
  },
  {
   "cell_type": "code",
   "metadata": {
    "id": "FcXBeP1O7cnY",
    "colab": {
     "base_uri": "https://localhost:8080/"
    },
    "outputId": "71093642-cfa9-4c8e-ac77-832184982197"
   },
   "source": [
    "# Intstall PyTorch and download data\n",
    "!pip3 install torch torchvision\n",
    "\n",
    "!wget -c http://ufldl.stanford.edu/housenumbers/train_32x32.mat http://ufldl.stanford.edu/housenumbers/test_32x32.mat"
   ],
   "execution_count": 1,
   "outputs": [
    {
     "output_type": "stream",
     "text": [
      "Requirement already satisfied: torch in /usr/local/lib/python3.7/dist-packages (1.8.1+cu101)\n",
      "Requirement already satisfied: torchvision in /usr/local/lib/python3.7/dist-packages (0.9.1+cu101)\n",
      "Requirement already satisfied: typing-extensions in /usr/local/lib/python3.7/dist-packages (from torch) (3.7.4.3)\n",
      "Requirement already satisfied: numpy in /usr/local/lib/python3.7/dist-packages (from torch) (1.19.5)\n",
      "Requirement already satisfied: pillow>=4.1.1 in /usr/local/lib/python3.7/dist-packages (from torchvision) (7.1.2)\n",
      "--2021-03-31 01:15:13--  http://ufldl.stanford.edu/housenumbers/train_32x32.mat\n",
      "Resolving ufldl.stanford.edu (ufldl.stanford.edu)... 171.64.68.10\n",
      "Connecting to ufldl.stanford.edu (ufldl.stanford.edu)|171.64.68.10|:80... connected.\n",
      "HTTP request sent, awaiting response... 200 OK\n",
      "Length: 182040794 (174M) [text/plain]\n",
      "Saving to: ‘train_32x32.mat’\n",
      "\n",
      "train_32x32.mat     100%[===================>] 173.61M  62.1MB/s    in 2.8s    \n",
      "\n",
      "2021-03-31 01:15:16 (62.1 MB/s) - ‘train_32x32.mat’ saved [182040794/182040794]\n",
      "\n",
      "--2021-03-31 01:15:16--  http://ufldl.stanford.edu/housenumbers/test_32x32.mat\n",
      "Reusing existing connection to ufldl.stanford.edu:80.\n",
      "HTTP request sent, awaiting response... 200 OK\n",
      "Length: 64275384 (61M) [text/plain]\n",
      "Saving to: ‘test_32x32.mat’\n",
      "\n",
      "test_32x32.mat      100%[===================>]  61.30M  74.7MB/s    in 0.8s    \n",
      "\n",
      "2021-03-31 01:15:17 (74.7 MB/s) - ‘test_32x32.mat’ saved [64275384/64275384]\n",
      "\n",
      "FINISHED --2021-03-31 01:15:17--\n",
      "Total wall clock time: 3.7s\n",
      "Downloaded: 2 files, 235M in 3.6s (64.9 MB/s)\n"
     ],
     "name": "stdout"
    }
   ]
  },
  {
   "cell_type": "code",
   "metadata": {
    "id": "-afwWw-Q85vD"
   },
   "source": [
    "from collections import namedtuple\n",
    "\n",
    "import matplotlib.pyplot as plt\n",
    "import numpy as np\n",
    "import PIL\n",
    "import torch\n",
    "import torch.nn as nn\n",
    "import torch.optim as optim\n",
    "import torchvision.datasets as dset\n",
    "from torch.utils.data.sampler import SubsetRandomSampler\n",
    "\n",
    "from torchvision import transforms"
   ],
   "execution_count": 2,
   "outputs": []
  },
  {
   "cell_type": "code",
   "metadata": {
    "id": "NNU-OD9O9ltP"
   },
   "source": [
    "device = torch.device(\"cuda:0\") # Let's make sure GPU is available!"
   ],
   "execution_count": 3,
   "outputs": []
  },
  {
   "cell_type": "markdown",
   "metadata": {
    "id": "rujaGr16rxIH"
   },
   "source": [
    "# Загружаем данные"
   ]
  },
  {
   "cell_type": "code",
   "metadata": {
    "id": "YAvkoRx-9FsP"
   },
   "source": [
    "# First, lets load the dataset\n",
    "data_train = dset.SVHN('./', \n",
    "                       transform=transforms.Compose([\n",
    "                           transforms.ToTensor(),\n",
    "                           transforms.Normalize(mean=[0.43,0.44,0.47],\n",
    "                                               std=[0.20,0.20,0.20])                           \n",
    "                       ])\n",
    "                      )\n",
    "data_test = dset.SVHN('./', split='test', transform=transforms.Compose([\n",
    "                           transforms.ToTensor(),\n",
    "                           transforms.Normalize(mean=[0.43,0.44,0.47],\n",
    "                                               std=[0.20,0.20,0.20])                           \n",
    "                       ]))"
   ],
   "execution_count": 4,
   "outputs": []
  },
  {
   "cell_type": "markdown",
   "metadata": {
    "id": "H6LtY9gqrxIK"
   },
   "source": [
    "Разделяем данные на training и validation.\n",
    "\n",
    "На всякий случай для подробностей - https://pytorch.org/tutorials/beginner/data_loading_tutorial.html"
   ]
  },
  {
   "cell_type": "code",
   "metadata": {
    "id": "YRnr8CPg7Hli"
   },
   "source": [
    "batch_size = 64\n",
    "\n",
    "data_size = data_train.data.shape[0]\n",
    "validation_split = .2\n",
    "split = int(np.floor(validation_split * data_size))\n",
    "indices = list(range(data_size))\n",
    "np.random.shuffle(indices)\n",
    "\n",
    "train_indices, val_indices = indices[split:], indices[:split]\n",
    "\n",
    "train_sampler = SubsetRandomSampler(train_indices)\n",
    "val_sampler = SubsetRandomSampler(val_indices)\n",
    "\n",
    "train_loader = torch.utils.data.DataLoader(data_train, batch_size=batch_size, \n",
    "                                           sampler=train_sampler)\n",
    "val_loader = torch.utils.data.DataLoader(data_train, batch_size=batch_size,\n",
    "                                         sampler=val_sampler)"
   ],
   "execution_count": 49,
   "outputs": []
  },
  {
   "cell_type": "code",
   "metadata": {
    "id": "LyYvt-T67PBG"
   },
   "source": [
    "# We'll use a special helper module to shape it into a flat tensor\n",
    "class Flattener(nn.Module):\n",
    "    def forward(self, x):\n",
    "        batch_size, *_ = x.shape\n",
    "        return x.view(batch_size, -1)"
   ],
   "execution_count": 63,
   "outputs": []
  },
  {
   "cell_type": "markdown",
   "metadata": {
    "id": "wvkKnxFlrxIO"
   },
   "source": [
    "Создадим простейшую сеть с новыми слоями:  \n",
    "Convolutional - `nn.Conv2d`  \n",
    "MaxPool - `nn.MaxPool2d`"
   ]
  },
  {
   "cell_type": "code",
   "metadata": {
    "id": "w9SFVGZP7SQd"
   },
   "source": [
    "nn_model = nn.Sequential(\n",
    "            nn.Conv2d(3, 64, 3, padding=1),\n",
    "            nn.ReLU(inplace=True),\n",
    "            nn.MaxPool2d(4),\n",
    "            nn.Conv2d(64, 64, 3, padding=1),\n",
    "            nn.ReLU(inplace=True),\n",
    "            nn.MaxPool2d(4),    \n",
    "            Flattener(),\n",
    "            nn.Linear(64*2*2, 10),\n",
    "          )\n",
    "\n",
    "nn_model.type(torch.cuda.FloatTensor)\n",
    "nn_model.to(device)\n",
    "\n",
    "loss = nn.CrossEntropyLoss().type(torch.cuda.FloatTensor)\n",
    "optimizer = optim.SGD(nn_model.parameters(), lr=1e-1, weight_decay=1e-4)"
   ],
   "execution_count": 7,
   "outputs": []
  },
  {
   "cell_type": "markdown",
   "metadata": {
    "id": "qSynBGw_rxIQ"
   },
   "source": [
    "Восстановите функцию `compute_accuracy` из прошлого задания.  \n",
    "Единственное отличие в новом - она должна передать данные на GPU прежде чем прогонять через модель. Сделайте это так же, как это делает функция `train_model`"
   ]
  },
  {
   "cell_type": "code",
   "metadata": {
    "id": "2ek3KVQK7hJ6"
   },
   "source": [
    "def train_model(model, train_loader, val_loader, loss, optimizer, num_epochs, scheduler=None):    \n",
    "    loss_history = []\n",
    "    train_history = []\n",
    "    val_history = []\n",
    "    for epoch in range(num_epochs):\n",
    "        model.train() # Enter train mode\n",
    "        \n",
    "        loss_accum = 0\n",
    "        correct_samples = 0\n",
    "        total_samples = 0\n",
    "        for i_step, (x, y) in enumerate(train_loader):\n",
    "          \n",
    "            x_gpu = x.to(device)\n",
    "            y_gpu = y.to(device)\n",
    "            prediction = model(x_gpu)    \n",
    "            loss_value = loss(prediction, y_gpu)\n",
    "            optimizer.zero_grad()\n",
    "            loss_value.backward()\n",
    "            optimizer.step()\n",
    "            if scheduler is not None:\n",
    "                scheduler.step()\n",
    "            \n",
    "            _, indices = torch.max(prediction, 1)\n",
    "            correct_samples += torch.sum(indices == y_gpu)\n",
    "            total_samples += y.shape[0]\n",
    "            \n",
    "            loss_accum += loss_value\n",
    "\n",
    "        ave_loss = loss_accum / i_step\n",
    "        train_accuracy = float(correct_samples) / total_samples\n",
    "        val_accuracy = compute_accuracy(model, val_loader)\n",
    "        \n",
    "        loss_history.append(float(ave_loss))\n",
    "        train_history.append(train_accuracy)\n",
    "        val_history.append(val_accuracy)\n",
    "        \n",
    "        print(\"Average loss: %f, Train accuracy: %f, Val accuracy: %f\" % (ave_loss, train_accuracy, val_accuracy))\n",
    "        \n",
    "    return loss_history, train_history, val_history\n",
    "        \n",
    "def compute_accuracy(model, loader):\n",
    "    \"\"\"\n",
    "    Computes accuracy on the dataset wrapped in a loader\n",
    "    \n",
    "    Returns: accuracy as a float value between 0 and 1\n",
    "    \"\"\"\n",
    "    model.eval() # Evaluation mode\n",
    "    # TODO: Copy implementation from previous assignment\n",
    "    # Don't forget to move the data to device before running it through the model!\n",
    "    \n",
    "    correct_samples = 0\n",
    "    total_samples = 0\n",
    "    for x, y in loader:\n",
    "        x_gpu = x.to(device)\n",
    "        y_gpu = y.to(device)\n",
    "        prediction = model(x_gpu)\n",
    "        indices = torch.argmax(prediction, 1)\n",
    "        correct_samples += torch.sum(indices == y_gpu)\n",
    "        total_samples += y_gpu.shape[0]\n",
    "\n",
    "    accuracy = float(correct_samples) / total_samples\n",
    "    return accuracy\n",
    "\n"
   ],
   "execution_count": 18,
   "outputs": []
  },
  {
   "cell_type": "code",
   "metadata": {
    "colab": {
     "base_uri": "https://localhost:8080/"
    },
    "id": "tQF5WmykE2F_",
    "outputId": "b47e1d75-350c-43ce-afc7-6ef678eb6f4c"
   },
   "source": [
    "loss_history, train_history, val_history = train_model(nn_model, train_loader, val_loader, loss, optimizer, 5)"
   ],
   "execution_count": 9,
   "outputs": [
    {
     "output_type": "stream",
     "text": [
      "Average loss: 2.186985, Train accuracy: 0.222421, Val accuracy: 0.131388\n",
      "Average loss: 1.666118, Train accuracy: 0.447061, Val accuracy: 0.401587\n",
      "Average loss: 1.182981, Train accuracy: 0.620510, Val accuracy: 0.527429\n",
      "Average loss: 0.936146, Train accuracy: 0.709410, Val accuracy: 0.663339\n",
      "Average loss: 0.801013, Train accuracy: 0.752751, Val accuracy: 0.694907\n"
     ],
     "name": "stdout"
    }
   ]
  },
  {
   "cell_type": "markdown",
   "metadata": {
    "id": "6a-3a1ZFGEw_"
   },
   "source": [
    "# Аугментация данных (Data augmentation)\n",
    "\n",
    "В работе с изображениями одним из особенно важных методов является аугментация данных - то есть, генерация дополнительных данных для тренировки на основе изначальных.   \n",
    "Таким образом, мы получаем возможность \"увеличить\" набор данных для тренировки, что ведет к лучшей работе сети.\n",
    "Важно, чтобы аугментированные данные были похожи на те, которые могут встретиться в реальной жизни, иначе польза от аугментаций уменьшается и может ухудшить работу сети.\n",
    "\n",
    "С PyTorch идут несколько таких алгоритмов, называемых `transforms`. Более подробно про них можно прочитать тут -\n",
    "https://pytorch.org/tutorials/beginner/data_loading_tutorial.html#transforms\n",
    "\n",
    "Ниже мы используем следующие алгоритмы генерации:\n",
    "- ColorJitter - случайное изменение цвета\n",
    "- RandomHorizontalFlip - горизонтальное отражение с вероятностью 50%\n",
    "- RandomVerticalFlip - вертикальное отражение с вероятностью 50%\n",
    "- RandomRotation - случайный поворот"
   ]
  },
  {
   "cell_type": "code",
   "metadata": {
    "id": "jCWMUWmr7t5g",
    "colab": {
     "base_uri": "https://localhost:8080/"
    },
    "outputId": "6b3594f8-2e05-4e49-f83f-476bac6a2661"
   },
   "source": [
    "tfs = transforms.Compose([\n",
    "    transforms.ColorJitter(hue=.50, saturation=.50),\n",
    "    transforms.RandomHorizontalFlip(),\n",
    "    transforms.RandomVerticalFlip(),\n",
    "    transforms.RandomRotation(50, resample=PIL.Image.BILINEAR),\n",
    "    transforms.ToTensor(),\n",
    "    transforms.Normalize(mean=[0.43,0.44,0.47],\n",
    "                       std=[0.20,0.20,0.20])                           \n",
    "])\n",
    "\n",
    "# Create augmented train dataset\n",
    "data_aug_train = dset.SVHN('./', \n",
    "                       transform=tfs\n",
    "                      )\n",
    "\n",
    "train_aug_loader = torch.utils.data.DataLoader(data_aug_train, batch_size=batch_size, \n",
    "                                           sampler=train_sampler)"
   ],
   "execution_count": 50,
   "outputs": [
    {
     "output_type": "stream",
     "text": [
      "/usr/local/lib/python3.7/dist-packages/torchvision/transforms/transforms.py:1201: UserWarning: Argument resample is deprecated and will be removed since v0.10.0. Please, use interpolation instead\n",
      "  \"Argument resample is deprecated and will be removed since v0.10.0. Please, use interpolation instead\"\n"
     ],
     "name": "stderr"
    }
   ]
  },
  {
   "cell_type": "markdown",
   "metadata": {
    "id": "4dpMaYHWrxIU"
   },
   "source": [
    "Визуализируем результаты агментации (вообще, смотреть на сгенерированные данные всегда очень полезно)."
   ]
  },
  {
   "cell_type": "code",
   "metadata": {
    "id": "YlJJEro1KZ45",
    "colab": {
     "base_uri": "https://localhost:8080/",
     "height": 178
    },
    "outputId": "ec55acb9-7deb-43c0-d28e-40b2fa3c4c8c"
   },
   "source": [
    "# TODO: Visualize some augmented images!\n",
    "# hint: you can create new datasets and loaders to accomplish this\n",
    "\n",
    "# Based on the visualizations, should we keep all the augmentations?\n",
    "\n",
    "tfs = transforms.Compose([\n",
    "    transforms.ColorJitter(hue=.20, saturation=.20),\n",
    "    transforms.RandomRotation(30, resample=PIL.Image.BILINEAR),\n",
    "    transforms.CenterCrop(27),\n",
    "    transforms.GaussianBlur(3)\n",
    "])\n",
    "\n",
    "data_aug_vis = dset.SVHN('./', \n",
    "                       transform=tfs\n",
    "                      )\n",
    "\n",
    "plt.figure(figsize=(30, 3))\n",
    "\n",
    "for i, (x, y) in enumerate(data_aug_vis):\n",
    "    if i == 10:\n",
    "        break\n",
    "    plt.subplot(1, 10, i+1)\n",
    "    plt.grid(False)\n",
    "    plt.imshow(x)\n",
    "    plt.axis('off')"
   ],
   "execution_count": 51,
   "outputs": [
    {
     "output_type": "stream",
     "text": [
      "/usr/local/lib/python3.7/dist-packages/torchvision/transforms/transforms.py:1201: UserWarning: Argument resample is deprecated and will be removed since v0.10.0. Please, use interpolation instead\n",
      "  \"Argument resample is deprecated and will be removed since v0.10.0. Please, use interpolation instead\"\n"
     ],
     "name": "stderr"
    },
    {
     "output_type": "display_data",
     "data": {
      "image/png": "[encoded data removed]",
      "text/plain": [
       "<Figure size 2160x216 with 10 Axes>"
      ]
     },
     "metadata": {
      "tags": [],
      "needs_background": "light"
     }
    }
   ]
  },
  {
   "cell_type": "markdown",
   "metadata": {
    "id": "o2LrmsYHoguB"
   },
   "source": [
    "Все ли агментации одинаково полезны на этом наборе данных? Могут ли быть среди них те, которые собьют модель с толку?\n",
    "\n",
    "Выберите из них только корректные"
   ]
  },
  {
   "cell_type": "code",
   "metadata": {
    "id": "evro9ksXGs9u",
    "colab": {
     "base_uri": "https://localhost:8080/"
    },
    "outputId": "cd1333d3-e1cb-4c1b-dff0-e9d52610dcd0"
   },
   "source": [
    "# TODO: \n",
    "tfs = transforms.Compose([\n",
    "    # TODO: Add good augmentations\n",
    "    transforms.ColorJitter(hue=.20, saturation=.20),\n",
    "    transforms.RandomRotation(30, resample=PIL.Image.BILINEAR),\n",
    "    transforms.GaussianBlur(3),\n",
    "    transforms.ToTensor(),\n",
    "    transforms.Normalize(mean=[0.43,0.44,0.47],\n",
    "                       std=[0.20,0.20,0.20])                     \n",
    "])\n",
    "\n",
    "\n",
    "# TODO create new instances of loaders with the augmentations you chose\n",
    "data_aug_train = dset.SVHN('./', \n",
    "                       transform=tfs\n",
    "                      )\n",
    "train_aug_loader = torch.utils.data.DataLoader(data_aug_train, batch_size=batch_size, \n",
    "                                           sampler=train_sampler)"
   ],
   "execution_count": 52,
   "outputs": [
    {
     "output_type": "stream",
     "text": [
      "/usr/local/lib/python3.7/dist-packages/torchvision/transforms/transforms.py:1201: UserWarning: Argument resample is deprecated and will be removed since v0.10.0. Please, use interpolation instead\n",
      "  \"Argument resample is deprecated and will be removed since v0.10.0. Please, use interpolation instead\"\n"
     ],
     "name": "stderr"
    }
   ]
  },
  {
   "cell_type": "code",
   "metadata": {
    "id": "PeO6Zw0DHqPR",
    "colab": {
     "base_uri": "https://localhost:8080/"
    },
    "outputId": "3450d378-9bad-4adc-97bc-35876c29e031"
   },
   "source": [
    "# Finally, let's train with augmentations!\n",
    "\n",
    "# Note we shouldn't use augmentations on validation\n",
    "\n",
    "loss_history, train_history, val_history = train_model(nn_model,\n",
    "                                                       train_aug_loader,\n",
    "                                                       val_loader,\n",
    "                                                       loss,\n",
    "                                                       optimizer,\n",
    "                                                       5)"
   ],
   "execution_count": 13,
   "outputs": [
    {
     "output_type": "stream",
     "text": [
      "Average loss: 1.255236, Train accuracy: 0.602252, Val accuracy: 0.655234\n",
      "Average loss: 1.058335, Train accuracy: 0.661036, Val accuracy: 0.647726\n",
      "Average loss: 0.977706, Train accuracy: 0.689702, Val accuracy: 0.594318\n",
      "Average loss: 0.926052, Train accuracy: 0.704718, Val accuracy: 0.702756\n",
      "Average loss: 0.897677, Train accuracy: 0.712994, Val accuracy: 0.689702\n"
     ],
     "name": "stdout"
    }
   ]
  },
  {
   "cell_type": "markdown",
   "metadata": {
    "id": "r0bcioK6JBDK"
   },
   "source": [
    "# LeNet\n",
    "Попробуем имплементировать классическую архитектуру сверточной нейронной сети, предложенную Яном ЛеКуном в 1998 году. В свое время она достигла впечатляющих результатов на MNIST, посмотрим как она справится с SVHN?\n",
    "Она описана в статье [\"Gradient Based Learning Applied to Document Recognition\"](http://yann.lecun.com/exdb/publis/pdf/lecun-01a.pdf), попробуйте прочитать ключевые части и имплементировать предложенную архитетуру на PyTorch.\n",
    "\n",
    "Реализовывать слои и функцию ошибки LeNet, которых нет в PyTorch, **не нужно** - просто возьмите их размеры и переведите в уже известные нам Convolutional, Pooling и Fully Connected layers.\n",
    "\n",
    "Если в статье не очень понятно, можно просто погуглить LeNet и разобраться в деталях :)"
   ]
  },
  {
   "cell_type": "code",
   "metadata": {
    "id": "ieEzZUglJAUB"
   },
   "source": [
    "# TODO: Implement LeNet-like architecture for SVHN task\n",
    "lenet_model = nn.Sequential(\n",
    "            nn.Conv2d(3, 6, 5, stride=1, padding=0),\n",
    "            nn.Tanh(),\n",
    "            nn.MaxPool2d(2, stride=2),\n",
    "            nn.Conv2d(6, 16, 5, stride=1, padding=0),\n",
    "            nn.Tanh(),\n",
    "            nn.AvgPool2d(2, stride=2),\n",
    "            nn.Conv2d(16, 120, 5),\n",
    "            Flattener(),\n",
    "            nn.Linear(120, 84),\n",
    "            nn.Tanh(),\n",
    "            nn.Linear(84, 10)\n",
    "          )\n",
    "\n",
    "lenet_model.type(torch.cuda.FloatTensor)\n",
    "lenet_model.to(device)\n",
    "\n",
    "loss = nn.CrossEntropyLoss().type(torch.cuda.FloatTensor)\n",
    "optimizer = optim.SGD(lenet_model.parameters(), lr=1e-1, weight_decay=1e-4)"
   ],
   "execution_count": 44,
   "outputs": []
  },
  {
   "cell_type": "code",
   "metadata": {
    "id": "WMmaPfdeKk9H",
    "colab": {
     "base_uri": "https://localhost:8080/"
    },
    "outputId": "6c12262a-9b61-4733-e58f-80c157345530"
   },
   "source": [
    "# Let's train it!\n",
    "loss_history, train_history, val_history = train_model(lenet_model,\n",
    "                                                       train_aug_loader,\n",
    "                                                       val_loader,\n",
    "                                                       loss,\n",
    "                                                       optimizer,\n",
    "                                                       10)"
   ],
   "execution_count": 45,
   "outputs": [
    {
     "output_type": "stream",
     "text": [
      "Average loss: 2.249796, Train accuracy: 0.188977, Val accuracy: 0.193857\n",
      "Average loss: 2.223163, Train accuracy: 0.195802, Val accuracy: 0.210580\n",
      "Average loss: 2.108557, Train accuracy: 0.255439, Val accuracy: 0.347440\n",
      "Average loss: 1.777031, Train accuracy: 0.399710, Val accuracy: 0.525597\n",
      "Average loss: 1.417908, Train accuracy: 0.546626, Val accuracy: 0.605461\n",
      "Average loss: 1.192464, Train accuracy: 0.623752, Val accuracy: 0.604437\n",
      "Average loss: 1.069724, Train accuracy: 0.661292, Val accuracy: 0.480205\n",
      "Average loss: 1.003903, Train accuracy: 0.687057, Val accuracy: 0.537201\n",
      "Average loss: 0.945483, Train accuracy: 0.705401, Val accuracy: 0.461092\n",
      "Average loss: 0.908110, Train accuracy: 0.714956, Val accuracy: 0.639590\n"
     ],
     "name": "stdout"
    }
   ]
  },
  {
   "cell_type": "markdown",
   "metadata": {
    "id": "u_O9qiYySvuj"
   },
   "source": [
    "# Подбор гиперпараметров"
   ]
  },
  {
   "cell_type": "code",
   "metadata": {
    "id": "i6mhfdQ9K-N3",
    "colab": {
     "base_uri": "https://localhost:8080/"
    },
    "outputId": "d6c15ce1-9f10-491d-f09c-cd46301e5ad1"
   },
   "source": [
    "# The key hyperparameters we're going to tune are learning speed, annealing rate and regularization\n",
    "# We also encourage you to try different optimizers as well\n",
    "\n",
    "Hyperparams = namedtuple(\"Hyperparams\", ['learning_rate', 'anneal_epochs', 'reg'])\n",
    "RunResult = namedtuple(\"RunResult\", ['model', 'train_history', 'val_history', 'final_val_accuracy'])\n",
    "\n",
    "learning_rates = [1e-3, 1e-4]\n",
    "anneal_coeff = 0.2\n",
    "anneal_epochs = [10]\n",
    "regs = [1e-5, 1e-3, 1e-4]\n",
    "\n",
    "batch_size = 64\n",
    "epoch_num = 8\n",
    "\n",
    "# Record all the runs here\n",
    "# Key should be Hyperparams and values should be RunResult\n",
    "run_record = {} \n",
    "\n",
    "# Use grid search or random search and record all runs in run_record dictionary \n",
    "# Important: perform search in logarithmic space!\n",
    "\n",
    "# TODO: Your code here!\n",
    "for lr in learning_rates:\n",
    "    for anneal_epoch in anneal_epochs:\n",
    "        for reg in regs:\n",
    "            hyperparam = Hyperparams(lr, anneal_epoch, reg)\n",
    "\n",
    "            optimizer = optim.Adagrad(lenet_model.parameters(), lr=lr, weight_decay=reg)\n",
    "            scheduler = optim.lr_scheduler.StepLR(optimizer, step_size=anneal_epoch, gamma=anneal_coeff)\n",
    "            loss_history, train_history, val_history = train_model(lenet_model,\n",
    "                                                       train_aug_loader,\n",
    "                                                       val_loader,\n",
    "                                                       loss,\n",
    "                                                       optimizer,\n",
    "                                                       epoch_num,\n",
    "                                                       scheduler=scheduler)\n",
    "            \n",
    "            run_result = RunResult(lenet_model, train_history, val_history, val_history[-1])\n",
    "            run_record[hyperparam] = run_result"
   ],
   "execution_count": null,
   "outputs": [
    {
     "output_type": "stream",
     "text": [
      "Average loss: 0.826296, Train accuracy: 0.745244, Val accuracy: 0.786025\n",
      "Average loss: 0.822852, Train accuracy: 0.744646, Val accuracy: 0.786025\n"
     ],
     "name": "stdout"
    }
   ]
  },
  {
   "cell_type": "code",
   "metadata": {
    "id": "Y6xExdw8JB1l",
    "colab": {
     "base_uri": "https://localhost:8080/"
    },
    "outputId": "ce8d2bba-7bfc-4011-fe12-95f421907360"
   },
   "source": [
    "best_val_accuracy = None\n",
    "best_hyperparams = None\n",
    "best_run = None\n",
    "\n",
    "for hyperparams, run_result in run_record.items():\n",
    "    if best_val_accuracy is None or best_val_accuracy < run_result.final_val_accuracy:\n",
    "        best_val_accuracy = run_result.final_val_accuracy\n",
    "        best_hyperparams = hyperparams\n",
    "        best_run = run_result\n",
    "        \n",
    "print(\"Best validation accuracy: %4.2f, best hyperparams: %s\" % (best_val_accuracy, best_hyperparams))\n",
    "        "
   ],
   "execution_count": null,
   "outputs": [
    {
     "output_type": "stream",
     "text": [
      "Best validation accuracy: 0.79, best hyperparams: Hyperparams(learning_rate=0.0001, anneal_epochs=10, reg=1e-05)\n"
     ],
     "name": "stdout"
    }
   ]
  },
  {
   "cell_type": "markdown",
   "metadata": {
    "id": "LOmsR0uVgtgf"
   },
   "source": [
    "# Свободное упражнение - догоним и перегоним LeNet!\n",
    "\n",
    "Попробуйте найти архитектуру и настройки тренировки, чтобы выступить лучше наших бейзлайнов.\n",
    "\n",
    "Что можно и нужно попробовать:\n",
    "- BatchNormalization (для convolution layers он в PyTorch называется [batchnorm2d](https://pytorch.org/docs/stable/nn.html#batchnorm2d))\n",
    "- Изменить количество слоев и их толщину\n",
    "- Изменять количество эпох тренировки\n",
    "- Попробовать и другие агментации"
   ]
  },
  {
   "cell_type": "code",
   "metadata": {
    "id": "tSVhD747icoc"
   },
   "source": [
    "Hyperparams = namedtuple(\"Hyperparams\", ['learning_rate', 'anneal_epochs', 'reg'])\n",
    "RunResult = namedtuple(\"RunResult\", ['model', 'train_history', 'val_history', 'final_val_accuracy'])\n",
    "\n",
    "learning_rates = [1e-1, 1e-2, 1e-3, 1e-4, 1e-5]\n",
    "anneal_coeff = 0.2\n",
    "anneal_epochs = [2, 10]\n",
    "regs = [1e-5, 1e-3, 1e-4]\n",
    "\n",
    "batch_size = 64\n",
    "epoch_num = 8\n",
    "\n",
    "# Record all the runs here\n",
    "# Key should be Hyperparams and values should be RunResult\n",
    "run_record = {} \n",
    "\n",
    "# Use grid search or random search and record all runs in run_record dictionary \n",
    "# Important: perform search in logarithmic space!\n",
    "\n",
    "\n",
    "nn_model = nn.Sequential(\n",
    "            nn.Conv2d(3, 20, 3, padding=1),\n",
    "            nn.BatchNorm2d(20),\n",
    "            nn.ReLU(inplace=True),\n",
    "            nn.MaxPool2d(2, stride=2),\n",
    "\n",
    "            nn.Conv2d(20, 16, 3, padding=1),\n",
    "            nn.BatchNorm2d(16),\n",
    "            nn.ReLU(inplace=True),\n",
    "            nn.MaxPool2d(2, stride=2),\n",
    "\n",
    "            nn.Conv2d(16, 16, 3),\n",
    "            nn.BatchNorm2d(16),\n",
    "            nn.ReLU(inplace=True),\n",
    "            nn.MaxPool2d(2, stride=2),\n",
    "\n",
    "            Flattener(),\n",
    "            nn.Linear(144, 128),\n",
    "            nn.ReLU(inplace=True),\n",
    "            nn.Linear(128, 10)\n",
    "          )\n",
    "\n",
    "nn_model.type(torch.cuda.FloatTensor)\n",
    "nn_model.to(device)\n",
    "\n",
    "loss = nn.CrossEntropyLoss().type(torch.cuda.FloatTensor)\n",
    "\n",
    "# TODO: Your code here!\n",
    "for lr in learning_rates:\n",
    "    for anneal_epoch in anneal_epochs:\n",
    "        for reg in regs:\n",
    "            nn_model = nn.Sequential(\n",
    "                nn.Conv2d(3, 20, 3, padding=1),\n",
    "                nn.BatchNorm2d(20),\n",
    "                nn.ReLU(inplace=True),\n",
    "                nn.MaxPool2d(2, stride=2),\n",
    "\n",
    "                nn.Conv2d(20, 16, 3, padding=1),\n",
    "                nn.BatchNorm2d(16),\n",
    "                nn.ReLU(inplace=True),\n",
    "                nn.MaxPool2d(2, stride=2),\n",
    "\n",
    "                nn.Conv2d(16, 16, 3),\n",
    "                nn.BatchNorm2d(16),\n",
    "                nn.ReLU(inplace=True),\n",
    "                nn.MaxPool2d(2, stride=2),\n",
    "\n",
    "                Flattener(),\n",
    "                nn.Linear(144, 128),\n",
    "                nn.ReLU(inplace=True),\n",
    "                nn.Linear(128, 10)\n",
    "            )\n",
    "            nn_model.type(torch.cuda.FloatTensor)\n",
    "            nn_model.to(device)\n",
    "\n",
    "            hyperparam = Hyperparams(lr, anneal_epoch, reg)\n",
    "\n",
    "            optimizer = optim.Adagrad(nn_model.parameters(), lr=lr, weight_decay=reg)\n",
    "            scheduler = optim.lr_scheduler.StepLR(optimizer, step_size=anneal_epoch, gamma=anneal_coeff)\n",
    "            loss_history, train_history, val_history = train_model(nn_model,\n",
    "                                                       train_aug_loader,\n",
    "                                                       val_loader,\n",
    "                                                       loss,\n",
    "                                                       optimizer,\n",
    "                                                       epoch_num,\n",
    "                                                       scheduler=scheduler)\n",
    "            \n",
    "            run_result = RunResult(nn_model, train_history, val_history, val_history[-1])\n",
    "            run_record[hyperparam] = run_result\n",
    "\n",
    "\n",
    "best_val_accuracy = None\n",
    "best_hyperparams = None\n",
    "best_run = None\n",
    "best_model = None\n",
    "\n",
    "for hyperparams, run_result in run_record.items():\n",
    "    if best_val_accuracy is None or best_val_accuracy < run_result.final_val_accuracy:\n",
    "        best_val_accuracy = run_result.final_val_accuracy\n",
    "        best_hyperparams = hyperparams\n",
    "        best_run = run_result\n",
    "        \n",
    "print(\"Best validation accuracy: %4.2f, best hyperparams: %s\" % (best_val_accuracy, best_hyperparams))"
   ],
   "execution_count": null,
   "outputs": []
  },
  {
   "cell_type": "code",
   "metadata": {
    "id": "wzayuNBDqISs",
    "pycharm": {
     "name": "#%%\n"
    }
   },
   "source": [
    "# We'll use a special helper module to shape it into a flat tensor\n",
    "class Flattener(nn.Module):\n",
    "    def forward(self, x):\n",
    "        batch_size, *_ = x.shape\n",
    "        return x.view(batch_size, -1)"
   ],
   "execution_count": 86,
   "outputs": []
  },
  {
   "cell_type": "code",
   "metadata": {
    "colab": {
     "base_uri": "https://localhost:8080/"
    },
    "id": "bn0GtmFJashX",
    "outputId": "fe9d263a-3573-443d-efac-0b5b656a23fa"
   },
   "source": [
    "batch_size = 128\n",
    "\n",
    "# Record all the runs here\n",
    "# Key should be Hyperparams and values should be RunResult\n",
    "run_record = {} \n",
    "\n",
    "# Use grid search or random search and record all runs in run_record dictionary \n",
    "# Important: perform search in logarithmic space!\n",
    "\n",
    "\n",
    "nn_model = nn.Sequential(\n",
    "            nn.Conv2d(3, 32, 3, stride=1, padding=1),\n",
    "            nn.ReLU(inplace=True),\n",
    "            nn.BatchNorm2d(32),\n",
    "            nn.Conv2d(32, 32, 3, stride=1, padding=1),\n",
    "            nn.ReLU(inplace=True),\n",
    "            nn.MaxPool2d(2, stride=2),\n",
    "            nn.Dropout2d(0.3),\n",
    "\n",
    "            nn.Conv2d(32, 64, 3, stride=1, padding=1),\n",
    "            nn.ReLU(inplace=True),\n",
    "            nn.BatchNorm2d(64),\n",
    "            nn.Conv2d(64, 64, 3, stride=1, padding=1),\n",
    "            nn.ReLU(inplace=True),\n",
    "            nn.MaxPool2d(2, stride=2),\n",
    "            nn.Dropout2d(0.3),\n",
    "\n",
    "\n",
    "            nn.Conv2d(64, 128, 3, stride=1, padding=1),\n",
    "            nn.ReLU(inplace=True),\n",
    "            nn.BatchNorm2d(128),\n",
    "            nn.Conv2d(128, 128, 3, stride=1, padding=1),\n",
    "            nn.ReLU(inplace=True),\n",
    "            nn.MaxPool2d(2, stride=2),\n",
    "            nn.Dropout2d(0.3),\n",
    "\n",
    "            Flattener(),\n",
    "            nn.Linear(2048, 128),\n",
    "            nn.ReLU(inplace=True),\n",
    "            nn.Dropout2d(0.4),\n",
    "            nn.Linear(128, 10)\n",
    "          )\n",
    "\n",
    "nn_model.type(torch.cuda.FloatTensor)\n",
    "nn_model.to(device)\n",
    "\n",
    "loss = nn.CrossEntropyLoss().type(torch.cuda.FloatTensor)\n",
    "\n",
    "lr = 1e-3\n",
    "anneal_coeff = 0.99\n",
    "anneal_epoch = 15\n",
    "reg = 1e-4\n",
    "epoch_num = 25\n",
    "\n",
    "hyperparam = Hyperparams(lr, anneal_epoch, reg)\n",
    "\n",
    "optimizer = optim.Adam(nn_model.parameters(), lr=lr, amsgrad=True)\n",
    "scheduler = optim.lr_scheduler.StepLR(optimizer, step_size=anneal_epoch, gamma=anneal_coeff)\n",
    "loss_history, train_history, val_history = train_model(nn_model,\n",
    "                                                       train_aug_loader,\n",
    "                                                       val_loader,\n",
    "                                                       loss,\n",
    "                                                       optimizer,\n",
    "                                                       epoch_num,\n",
    "                                                       scheduler=None)\n",
    "            \n",
    "run_result = RunResult(nn_model, train_history, val_history, val_history[-1])\n",
    "run_record[hyperparam] = run_result\n",
    "\n",
    "best_val_accuracy = None\n",
    "best_hyperparams = None\n",
    "best_run = None\n",
    "best_model = None\n",
    "\n",
    "for hyperparams, run_result in run_record.items():\n",
    "    if best_val_accuracy is None or best_val_accuracy < run_result.final_val_accuracy:\n",
    "        best_val_accuracy = run_result.final_val_accuracy\n",
    "        best_hyperparams = hyperparams\n",
    "        best_run = run_result\n",
    "        best_model = run_result.model\n",
    "        \n",
    "print(\"Best validation accuracy: %4.2f, best hyperparams: %s\" % (best_val_accuracy, best_hyperparams))"
   ],
   "execution_count": 87,
   "outputs": [
    {
     "output_type": "stream",
     "text": [
      "Average loss: 2.045013, Train accuracy: 0.260281, Val accuracy: 0.536619\n",
      "Average loss: 1.523072, Train accuracy: 0.468416, Val accuracy: 0.621050\n",
      "Average loss: 1.168807, Train accuracy: 0.590895, Val accuracy: 0.852365\n",
      "Average loss: 0.770489, Train accuracy: 0.754940, Val accuracy: 0.885400\n",
      "Average loss: 0.598706, Train accuracy: 0.821025, Val accuracy: 0.900485\n",
      "Average loss: 0.520450, Train accuracy: 0.845494, Val accuracy: 0.908129\n",
      "Average loss: 0.480251, Train accuracy: 0.859622, Val accuracy: 0.912702\n",
      "Average loss: 0.452249, Train accuracy: 0.869536, Val accuracy: 0.916251\n",
      "Average loss: 0.427719, Train accuracy: 0.876890, Val accuracy: 0.917753\n",
      "Average loss: 0.410082, Train accuracy: 0.880985, Val accuracy: 0.923213\n",
      "Average loss: 0.395407, Train accuracy: 0.887042, Val accuracy: 0.926694\n",
      "Average loss: 0.379817, Train accuracy: 0.892502, Val accuracy: 0.924579\n",
      "Average loss: 0.371433, Train accuracy: 0.894857, Val accuracy: 0.925125\n",
      "Average loss: 0.364272, Train accuracy: 0.895147, Val accuracy: 0.926012\n",
      "Average loss: 0.352920, Train accuracy: 0.898543, Val accuracy: 0.930721\n",
      "Average loss: 0.342413, Train accuracy: 0.900266, Val accuracy: 0.932974\n",
      "Average loss: 0.338354, Train accuracy: 0.902928, Val accuracy: 0.932633\n",
      "Average loss: 0.333208, Train accuracy: 0.905044, Val accuracy: 0.932837\n",
      "Average loss: 0.324629, Train accuracy: 0.905897, Val accuracy: 0.933929\n",
      "Average loss: 0.324180, Train accuracy: 0.907740, Val accuracy: 0.935431\n",
      "Average loss: 0.317334, Train accuracy: 0.910350, Val accuracy: 0.935158\n",
      "Average loss: 0.312339, Train accuracy: 0.909600, Val accuracy: 0.937137\n",
      "Average loss: 0.309245, Train accuracy: 0.911289, Val accuracy: 0.935226\n",
      "Average loss: 0.306179, Train accuracy: 0.911511, Val accuracy: 0.936318\n",
      "Average loss: 0.298119, Train accuracy: 0.915504, Val accuracy: 0.937479\n",
      "Best validation accuracy: 0.94, best hyperparams: Hyperparams(learning_rate=0.001, anneal_epochs=15, reg=0.0001)\n"
     ],
     "name": "stdout"
    }
   ]
  },
  {
   "cell_type": "markdown",
   "source": [
    "# Финальный аккорд - проверим лучшую модель на test set\n",
    "\n",
    "В качестве разнообразия - напишите код для прогона модели на test set вы.\n",
    "\n",
    "В результате вы должны натренировать модель, которая покажет более **90%** точности на test set.  \n",
    "Как водится, лучший результат в группе получит дополнительные баллы!"
   ],
   "metadata": {
    "collapsed": false
   }
  },
  {
   "cell_type": "code",
   "execution_count": null,
   "outputs": [],
   "source": [
    "# TODO Write the code to compute accuracy on test set\n",
    "test_loader = torch.utils.data.DataLoader(data_test)\n",
    "final_test_accuracy = compute_accuracy(nn_model, test_loader)\n",
    "print(\"Final test accuracy - \", final_test_accuracy)"
   ],
   "metadata": {
    "collapsed": false,
    "pycharm": {
     "name": "#%%\n"
    }
   }
  },
  {
   "cell_type": "markdown",
   "metadata": {
    "id": "ubeKgBcnhx7N"
   },
   "source": []
  },
  {
   "cell_type": "code",
   "metadata": {
    "id": "EIqM1kdeh-hd",
    "colab": {
     "base_uri": "https://localhost:8080/"
    },
    "outputId": "eb47d5f5-5cc4-4e9b-e3f8-9ea7ae67c6f6"
   },
   "source": [
    "# TODO Write the code to compute accuracy on test set\n",
    "test_loader = torch.utils.data.DataLoader(data_test)\n",
    "final_test_accuracy = compute_accuracy(nn_model, test_loader)\n",
    "print(\"Final test accuracy - \", final_test_accuracy)"
   ],
   "execution_count": 88,
   "outputs": [
    {
     "output_type": "stream",
     "text": [
      "Final test accuracy -  0.9447602950215119\n"
     ],
     "name": "stdout"
    }
   ]
  },
  {
   "cell_type": "code",
   "metadata": {
    "id": "BfH6qip6kVX_"
   },
   "source": [
    ""
   ],
   "execution_count": null,
   "outputs": []
  }
 ]
}